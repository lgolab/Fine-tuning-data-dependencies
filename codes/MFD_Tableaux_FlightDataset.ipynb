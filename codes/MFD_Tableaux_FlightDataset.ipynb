{
  "nbformat": 4,
  "nbformat_minor": 0,
  "metadata": {
    "colab": {
      "name": "MFD-Tableaux-FlightDataset.ipynb",
      "provenance": [],
      "collapsed_sections": [],
      "mount_file_id": "1ozU_S9PERMOXVirXcSK5ZEMY9M0oOilL",
      "authorship_tag": "ABX9TyM7Ym0G7Yr9orY5VmcJ+xV4",
      "include_colab_link": true
    },
    "kernelspec": {
      "name": "python3",
      "display_name": "Python 3"
    },
    "language_info": {
      "name": "python"
    }
  },
  "cells": [
    {
      "cell_type": "markdown",
      "metadata": {
        "id": "view-in-github",
        "colab_type": "text"
      },
      "source": [
        "<a href=\"https://colab.research.google.com/github/lgolab/Fine-tuning-data-dependencies/blob/main/codes/MFD_Tableaux_FlightDataset.ipynb\" target=\"_parent\"><img src=\"https://colab.research.google.com/assets/colab-badge.svg\" alt=\"Open In Colab\"/></a>"
      ]
    },
    {
      "cell_type": "markdown",
      "metadata": {
        "id": "0hiloX5prHQG"
      },
      "source": [
        "# 1. Data Preparation"
      ]
    },
    {
      "cell_type": "markdown",
      "metadata": {
        "id": "MGbe67HavHvi"
      },
      "source": [
        "### Importing Libraries"
      ]
    },
    {
      "cell_type": "code",
      "metadata": {
        "id": "YF5o9apUvLV3"
      },
      "source": [
        "import csv\n",
        "from datetime import datetime\n",
        "from tqdm import tqdm\n",
        "from itertools import chain, combinations"
      ],
      "execution_count": 27,
      "outputs": []
    },
    {
      "cell_type": "markdown",
      "metadata": {
        "id": "kFdsyawp3E2H"
      },
      "source": [
        "### Moving data to colab"
      ]
    },
    {
      "cell_type": "code",
      "metadata": {
        "colab": {
          "base_uri": "https://localhost:8080/"
        },
        "id": "rZq9nbRh0FKE",
        "outputId": "1ac7b29f-998d-404c-b4f6-c64ed48ba589"
      },
      "source": [
        "%cd /content/\n",
        "!cp -r /content/drive/MyDrive/FD-project/flight/ /content/flight\n",
        "%cd /content/flight/"
      ],
      "execution_count": 28,
      "outputs": [
        {
          "output_type": "stream",
          "name": "stdout",
          "text": [
            "/content\n",
            "/content/flight\n"
          ]
        }
      ]
    },
    {
      "cell_type": "markdown",
      "metadata": {
        "id": "RnLWA3Ys3KRx"
      },
      "source": [
        "### Reading the data and Creating the dataset"
      ]
    },
    {
      "cell_type": "code",
      "metadata": {
        "colab": {
          "base_uri": "https://localhost:8080/"
        },
        "id": "eutRQEvJbivd",
        "outputId": "afe99f0f-7e0e-44e8-f9d0-827bc04e3d29"
      },
      "source": [
        "dataset_address = 'August2018-Nationwide-flights.csv'\n",
        "\n",
        "attrs = ['FL_DATE', 'OP_CARRIER_AIRLINE_ID', 'OP_CARRIER_FL_NUM',\n",
        "         'ORIGIN', 'DEST',\n",
        "         'ORIGIN_CITY_MARKET_ID', 'DEST_CITY_MARKET_ID', \n",
        "         'DEP_DELAY', 'ARR_DELAY']\n",
        "attrIndex = []\n",
        "\n",
        "dataset = []\n",
        "with open(dataset_address) as csvfile:    \n",
        "    reader = csv.reader(csvfile, delimiter=',')\n",
        "    \n",
        "    cnt = 0\n",
        "    \n",
        "    for row in reader:\n",
        "        if cnt == 0:\n",
        "            for attr in attrs:\n",
        "                attrIndex.append(row.index(attr))\n",
        "        else:\n",
        "            tupple = {}\n",
        "            for i in range(len(attrs)):\n",
        "                tupple[attrs[i]] = row[attrIndex[i]]\n",
        "            \n",
        "            dataset.append(tupple)\n",
        "                \n",
        "        cnt += 1\n",
        "    \n",
        "\n",
        "print('Number of tuples in dataset: ', len(dataset), '\\nA sample tuple:\\n', dataset[5])\n"
      ],
      "execution_count": 29,
      "outputs": [
        {
          "output_type": "stream",
          "name": "stdout",
          "text": [
            "Number of tuples in dataset:  701352 \n",
            "A sample tuple:\n",
            " {'FL_DATE': '2018-08-01', 'OP_CARRIER_AIRLINE_ID': '19805', 'OP_CARRIER_FL_NUM': '1594', 'ORIGIN': 'DTW', 'DEST': 'ORD', 'ORIGIN_CITY_MARKET_ID': '31295', 'DEST_CITY_MARKET_ID': '30977', 'DEP_DELAY': '-10.00', 'ARR_DELAY': '-7.00'}\n"
          ]
        }
      ]
    },
    {
      "cell_type": "markdown",
      "metadata": {
        "id": "-KoumiZ4Sddw"
      },
      "source": [
        "### Filtering the dataset"
      ]
    },
    {
      "cell_type": "code",
      "metadata": {
        "colab": {
          "base_uri": "https://localhost:8080/"
        },
        "id": "uZSpMZF1Sht5",
        "outputId": "bc01e591-31b8-4ca0-8c79-74c075166110"
      },
      "source": [
        "US_major_airports = ['ATL', 'BOS', 'DEN', 'ORD', 'LAX', 'CLT', 'LAS', 'PHX', 'JFK', 'SEA']\n",
        "filter_dic = {\n",
        "        # 'FL_DATE': ['2018-08-01', '2018-08-02', '2018-08-03', '2018-08-04', '2018-08-05',\n",
        "        #             '2018-08-06', '2018-08-07', '2018-08-08', '2018-08-09', '2018-08-10'],     # 10/31\n",
        "        'ORIGIN': US_major_airports,    # 10/many!\n",
        "        'DEST': US_major_airports    # 10/many!\n",
        "}\n",
        "\n",
        "filtered_dataset = []\n",
        "for tupple in dataset:\n",
        "    filter_flag = 0\n",
        "    for key in filter_dic:\n",
        "        if tupple[key] not in filter_dic[key]:\n",
        "            filter_flag = 1\n",
        "    if not filter_flag:\n",
        "        filtered_dataset.append(tupple)\n",
        "\n",
        "print('Dataset size before filtering: ', len(dataset))\n",
        "# dataset = filtered_dataset\n",
        "print('Dataset size after filtering: ', len(filtered_dataset))\n",
        "\n",
        "# for tupple in dataset:\n",
        "#     print(tupple['ORIGIN'], tupple['DEST'])"
      ],
      "execution_count": 30,
      "outputs": [
        {
          "output_type": "stream",
          "name": "stdout",
          "text": [
            "Dataset size before filtering:  701352\n",
            "Dataset size after filtering:  43266\n"
          ]
        }
      ]
    },
    {
      "cell_type": "markdown",
      "metadata": {
        "id": "JAtM7LlQrBuh"
      },
      "source": [
        "### Making fields human-readable"
      ]
    },
    {
      "cell_type": "code",
      "metadata": {
        "id": "YMNXKWxArGNF",
        "colab": {
          "base_uri": "https://localhost:8080/"
        },
        "outputId": "35d1421a-65cd-4265-955a-7f33c957c67d"
      },
      "source": [
        "AirlineMap = {}\n",
        "with open('AirCarriers') as csvfile:    \n",
        "    reader = csv.reader(csvfile, delimiter=',')\n",
        "    cnt = 0\n",
        "    \n",
        "    for row in reader:\n",
        "        if cnt != 0:\n",
        "            AirlineMap[row[0]] = row[1]\n",
        "        cnt += 1\n",
        "\n",
        "AirportMap = {}\n",
        "with open('Airports') as csvfile:    \n",
        "    reader = csv.reader(csvfile, delimiter=',')\n",
        "    cnt = 0\n",
        "    \n",
        "    for row in reader:\n",
        "        if cnt != 0:\n",
        "            AirportMap[row[0]] = row[1]\n",
        "        cnt += 1\n",
        "\n",
        "\n",
        "for i in range(len(dataset)):\n",
        "    dataset[i]['OP_CARRIER_AIRLINE_ID'] = AirlineMap[dataset[i]['OP_CARRIER_AIRLINE_ID']]\n",
        "    # dataset[i]['ORIGIN'] = dataset[i]['ORIGIN'] + ': ' + AirportMap[dataset[i]['ORIGIN']]\n",
        "    # dataset[i]['DEST'] = dataset[i]['DEST'] + ': ' + AirportMap[dataset[i]['DEST']]\n",
        "\n",
        "# Test:\n",
        "print(len(dataset))\n",
        "print(dataset[0])"
      ],
      "execution_count": 31,
      "outputs": [
        {
          "output_type": "stream",
          "name": "stdout",
          "text": [
            "701352\n",
            "{'FL_DATE': '2018-08-01', 'OP_CARRIER_AIRLINE_ID': 'American Airlines Inc.: AA', 'OP_CARRIER_FL_NUM': '1587', 'ORIGIN': 'JFK', 'DEST': 'PHX', 'ORIGIN_CITY_MARKET_ID': '31703', 'DEST_CITY_MARKET_ID': '30466', 'DEP_DELAY': '9.00', 'ARR_DELAY': '44.00'}\n"
          ]
        }
      ]
    },
    {
      "cell_type": "markdown",
      "metadata": {
        "id": "C-ziIqvw-wbv"
      },
      "source": [
        "# 2. Finding the best MFDs"
      ]
    },
    {
      "cell_type": "code",
      "metadata": {
        "id": "5EdZzeSMFLr7"
      },
      "source": [
        "def calculate_MFD_delta(arr, confidence = 0.9):\n",
        "    n = len(arr)\n",
        "    removals = n - round(n * confidence)\n",
        "    best_delta = arr[-1] - arr[0]\n",
        "\n",
        "    # removing outliers in such a way that minimize delta:\n",
        "    for i in range(removals+1):\n",
        "        best_delta = min(best_delta, arr[-(removals-i+1)] - arr[i])\n",
        "    \n",
        "    return best_delta"
      ],
      "execution_count": 6,
      "outputs": []
    },
    {
      "cell_type": "code",
      "metadata": {
        "id": "jd5Pn70U-37L"
      },
      "source": [
        "def calculate_MFD_overall_delta(MFD_LHS_attrs, MFD_target, confidence1 = 0.9, confidence2 = 1):\n",
        "    \n",
        "    pattern_tuples = {}\n",
        "    group_patterns = []\n",
        "    group_values = []\n",
        "\n",
        "    for tupple in dataset:\n",
        "        # print(tupple[MFD_target], str(float(tupple[MFD_target])).isnumeric())\n",
        "        if tupple[MFD_target].replace('.','',1).replace('-','',1).isnumeric():\n",
        "                \n",
        "            pattern_tuple = tuple([])\n",
        "            pattern_dictionary = {}\n",
        "\n",
        "            for attr in MFD_LHS_attrs:\n",
        "                pattern_tuple = pattern_tuple + tuple([tupple[attr]])\n",
        "                pattern_dictionary[attr] = tupple[attr]\n",
        "\n",
        "            if pattern_tuple not in pattern_tuples:\n",
        "                pattern_tuples[pattern_tuple] = len(group_patterns)\n",
        "                group_patterns.append(pattern_dictionary)\n",
        "                group_values.append([])\n",
        "\n",
        "            pattern_index = pattern_tuples[pattern_tuple]\n",
        "            group_values[pattern_index].append(float(tupple[MFD_target]))\n",
        "    \n",
        "    group_deltas = []\n",
        "    for group in group_values:\n",
        "        group.sort()\n",
        "        group_delta = calculate_MFD_delta(group, confidence = confidence1)\n",
        "        group_deltas.append(group_delta)\n",
        "   \n",
        "    group_deltas.sort()\n",
        "    n = len(group_deltas)\n",
        "    # print(n, MFD_LHS_attrs, MFD_target)\n",
        "    overall_delta = group_deltas[round(n * confidence2)-1]\n",
        "\n",
        "    return overall_delta\n",
        "\n"
      ],
      "execution_count": 7,
      "outputs": []
    },
    {
      "cell_type": "code",
      "metadata": {
        "colab": {
          "base_uri": "https://localhost:8080/"
        },
        "id": "Yug3_ntL_Nw3",
        "outputId": "4dd632f6-415c-494b-f0f8-294bb600d9ba"
      },
      "source": [
        "attrs = ['FL_DATE', 'OP_CARRIER_AIRLINE_ID', 'ORIGIN', 'DEST']\n",
        "\n",
        "for x in chain.from_iterable(combinations(attrs, r) for r in range(0, len(attrs))):\n",
        "    general_pattern = list(x)\n",
        "    print(general_pattern, calculate_MFD_overall_delta(general_pattern, 'DEP_DELAY'))"
      ],
      "execution_count": 8,
      "outputs": [
        {
          "output_type": "stream",
          "name": "stdout",
          "text": [
            "[] 70.0\n",
            "['FL_DATE'] 134.0\n",
            "['OP_CARRIER_AIRLINE_ID'] 195.0\n",
            "['ORIGIN'] 92.0\n",
            "['DEST'] 98.0\n",
            "['FL_DATE', 'OP_CARRIER_AIRLINE_ID'] 312.0\n",
            "['FL_DATE', 'ORIGIN'] 211.0\n",
            "['FL_DATE', 'DEST'] 319.0\n",
            "['OP_CARRIER_AIRLINE_ID', 'ORIGIN'] 244.0\n",
            "['OP_CARRIER_AIRLINE_ID', 'DEST'] 244.0\n",
            "['ORIGIN', 'DEST'] 158.0\n",
            "['FL_DATE', 'OP_CARRIER_AIRLINE_ID', 'ORIGIN'] 1278.0\n",
            "['FL_DATE', 'OP_CARRIER_AIRLINE_ID', 'DEST'] 872.0\n",
            "['FL_DATE', 'ORIGIN', 'DEST'] 708.0\n",
            "['OP_CARRIER_AIRLINE_ID', 'ORIGIN', 'DEST'] 244.0\n"
          ]
        }
      ]
    },
    {
      "cell_type": "markdown",
      "metadata": {
        "id": "EuDEA2RONadw"
      },
      "source": [
        "# 3. Implementing CWCG algorithm"
      ]
    },
    {
      "cell_type": "markdown",
      "metadata": {
        "id": "rnNvjjRDrRQy"
      },
      "source": [
        "### Function for adding important patterns"
      ]
    },
    {
      "cell_type": "code",
      "metadata": {
        "id": "8KgmdoOWN4WH"
      },
      "source": [
        "def add_patterns(general_patterns):\n",
        "    global patterns, pattern_members, entry_patterns\n",
        "\n",
        "    pattern_tuples = {}\n",
        "    \n",
        "    for entry_index, entry in enumerate(dataset):\n",
        "        pattern_tuple = tuple([])\n",
        "        pattern_dictionary = {}\n",
        "        \n",
        "        for attr in general_patterns:\n",
        "            pattern_tuple = pattern_tuple + tuple([entry[attr]])\n",
        "            pattern_dictionary[attr] = entry[attr]\n",
        "        \n",
        "        if pattern_tuple not in pattern_tuples:\n",
        "            pattern_tuples[pattern_tuple] = len(patterns)\n",
        "            patterns.append(pattern_dictionary)\n",
        "            pattern_members.append([])\n",
        "        \n",
        "        pattern_index = pattern_tuples[pattern_tuple]\n",
        "        pattern_members[pattern_index].append(entry_index)\n",
        "        entry_patterns[entry_index].append(pattern_index)\n"
      ],
      "execution_count": 32,
      "outputs": []
    },
    {
      "cell_type": "markdown",
      "metadata": {
        "id": "2-OLd_69xEod"
      },
      "source": [
        "### Functions for setting cost of patterns"
      ]
    },
    {
      "cell_type": "code",
      "metadata": {
        "id": "8zQhkl5xBf5V"
      },
      "source": [
        "def calculate_delta(arr, confidence = 0.9):\n",
        "    n = len(arr)\n",
        "    removals = n - round(n * confidence)\n",
        "    best_delta = arr[-1] - arr[0]\n",
        "\n",
        "    # removing outliers in such a way that minimize delta:\n",
        "    for i in range(removals+1):\n",
        "        best_delta = min(best_delta, arr[-(removals-i+1)] - arr[i])\n",
        "    \n",
        "    return best_delta"
      ],
      "execution_count": 33,
      "outputs": []
    },
    {
      "cell_type": "code",
      "metadata": {
        "id": "sj9AxvphxIrt"
      },
      "source": [
        "def calculate_costs(MFD_LHS_attrs, MFD_target, base = 2, confidence1 = 0.9, confidence2 = 1, fail_tableaux = False):\n",
        "    global pattern_costs, pattern_deltas\n",
        "    pattern_costs = [0 for i in range(len(patterns))]\n",
        "    pattern_deltas = [0 for i in range(len(patterns))]\n",
        "\n",
        "    inf = 1e8\n",
        "    eps = 0.5\n",
        "\n",
        "    # Calculating fixed-antecedent group deltas:\n",
        "\n",
        "    global group_deltas, group_members\n",
        "    group_deltas = {}\n",
        "    group_members = {}\n",
        "\n",
        "    for entry_index, entry in enumerate(dataset):\n",
        "        if not dataset[entry_index][MFD_target].replace('.','',1).replace('-','',1).isnumeric():\n",
        "            continue\n",
        "\n",
        "        group_tuple = tuple([])\n",
        "    \n",
        "        for attr in MFD_LHS_attrs:\n",
        "            group_tuple = group_tuple + tuple([entry[attr]])\n",
        "        \n",
        "        if group_tuple not in group_members:\n",
        "            group_members[group_tuple] = []\n",
        "        group_members[group_tuple].append(float(dataset[entry_index][MFD_target]))\n",
        "    \n",
        "    for group_tuple in group_members:\n",
        "        arr = group_members[group_tuple]\n",
        "        arr.sort()\n",
        "        group_deltas[group_tuple] = calculate_delta(arr, confidence=confidence1)\n",
        "\n",
        "\n",
        "    # Calculating pattern deltas: \n",
        "\n",
        "    for i, pattern in enumerate(patterns):\n",
        "\n",
        "        pattern_groups = set([])\n",
        "\n",
        "        for entry_index in pattern_members[i]:\n",
        "            if dataset[entry_index][MFD_target].replace('.','',1).replace('-','',1).isnumeric():\n",
        "                group_tuple = tuple([])\n",
        "\n",
        "                for attr in MFD_LHS_attrs:\n",
        "                    group_tuple = group_tuple + tuple([dataset[entry_index][attr]])\n",
        "\n",
        "                pattern_groups.add(group_tuple)\n",
        "\n",
        "                \n",
        "        if len(pattern_groups) == 0:\n",
        "            pattern_costs[i] = inf\n",
        "        else:\n",
        "            deltas = []\n",
        "            for group_tuple in pattern_groups:\n",
        "                deltas.append(group_deltas[group_tuple])\n",
        "            \n",
        "            deltas.sort()\n",
        "            n = len(deltas)\n",
        "            overall_delta = deltas[round(n * confidence2)-1] \n",
        "\n",
        "            pattern_deltas[i] = overall_delta\n",
        "\n",
        "            if fail_tableaux:\n",
        "                pattern_costs[i] = (base ** -(overall_delta/15))    \n",
        "            else:\n",
        "                pattern_costs[i] = (base ** (overall_delta/15))\n"
      ],
      "execution_count": 34,
      "outputs": []
    },
    {
      "cell_type": "markdown",
      "metadata": {
        "id": "UKsA-uW4wG7T"
      },
      "source": [
        "### CWSC function"
      ]
    },
    {
      "cell_type": "code",
      "metadata": {
        "id": "m9H8YHP0LZ4D"
      },
      "source": [
        "# In this function, we use dataset, patterns, pattern_members, entry_patterns, and patterns as global variables\n",
        "\n",
        "def CWSC(k, coverage, fail_tableaux = False, max_coverage = 0.2):\n",
        "    \n",
        "    total_cost = 0\n",
        "\n",
        "    # Moving pattern_members to members\n",
        "    members = [set([]) for i in range(len(patterns))]\n",
        "    for i in range(len(patterns)):\n",
        "        for member in pattern_members[i]:\n",
        "            members[i].add(member)\n",
        "    \n",
        "    selected = [0 for i in range(len(patterns))]\n",
        "    solution_patterns = []\n",
        "    rem = int(len(dataset) * coverage)\n",
        "    max_rem = int(len(dataset) * max_coverage)\n",
        "    \n",
        "    for i in range(k, 0, -1):\n",
        "        \n",
        "        max_gain = 0.0\n",
        "        max_pattern_index = -1\n",
        "        \n",
        "        for index, pattern in enumerate(patterns):\n",
        "            \n",
        "            marginal_benefit = len(members[index])\n",
        "            cost = pattern_costs[index]\n",
        "            marginal_gain = marginal_benefit / cost\n",
        "            \n",
        "            if (selected[index] == 0 and marginal_benefit >= rem/i and marginal_gain > max_gain \n",
        "                and (fail_tableaux == False or marginal_benefit <= max_rem)):\n",
        "                max_gain = marginal_gain\n",
        "                max_pattern_index = index\n",
        "        \n",
        "        if max_pattern_index == -1:\n",
        "            print('Impossible!')\n",
        "            return ['Failed!']\n",
        "        \n",
        "        # selecting the next pattern\n",
        "        selected[max_pattern_index] = 1\n",
        "        total_cost += pattern_costs[max_pattern_index]\n",
        "        solution_patterns.append(max_pattern_index)\n",
        "        rem -= len(members[max_pattern_index])\n",
        "        max_rem -= len(members[max_pattern_index])\n",
        "        if rem <= 0:\n",
        "            print('\\nTotal cost is ', total_cost, '\\n')\n",
        "            return solution_patterns, total_cost\n",
        "        \n",
        "        # updating the marginal benefits\n",
        "        for entry_index in members[max_pattern_index]:\n",
        "            for pattern_index in entry_patterns[entry_index]:\n",
        "                if pattern_index != max_pattern_index:\n",
        "                    members[pattern_index].remove(entry_index)\n"
      ],
      "execution_count": 35,
      "outputs": []
    },
    {
      "cell_type": "markdown",
      "metadata": {
        "id": "BRVyPQXWTJov"
      },
      "source": [
        "### Running the algorithm on the dataset"
      ]
    },
    {
      "cell_type": "code",
      "metadata": {
        "id": "42nV06tgrdZN"
      },
      "source": [
        "import timeit\n",
        "\n",
        "def generate_MFD_tableaux(MFD_LHS_attrs, MFD_target, k = 20, confidence = 0.9, coverage = 0.5, fail_tableaux = False, max_coverage = 0.15):\n",
        "\n",
        "    # Adding patterns:\n",
        "    print('\\nAdding all the patterns... \\n')\n",
        "    t1 = timeit.default_timer()\n",
        "\n",
        "    global patterns, pattern_members, entry_patterns\n",
        "    patterns = []\n",
        "    pattern_members = []\n",
        "    entry_patterns = [[] for i in range(len(dataset))]\n",
        "    for x in chain.from_iterable(combinations(MFD_LHS_attrs, r) for r in range(0, len(MFD_LHS_attrs)+1)):\n",
        "        general_pattern = list(x)\n",
        "        print(general_pattern)\n",
        "        add_patterns(general_pattern)\n",
        "\n",
        "    t2 = timeit.default_timer()\n",
        "    print('\\nAdding patterns finished!\\n')\n",
        "    print('Time elapsed: ', t2-t1)\n",
        "\n",
        "    print('Number of patterns: ', len(patterns))\n",
        "    \n",
        "    # Calculating pattern costs:\n",
        "    print('\\nCalculating pattern costs...\\n')\n",
        "    calculate_costs(MFD_LHS_attrs, MFD_target, confidence1=confidence, fail_tableaux=fail_tableaux)\n",
        "\n",
        "    t3 = timeit.default_timer()\n",
        "    print('\\nCalculating pattern costs finished!\\n')\n",
        "    print('Time elapsed: ', t3-t2)\n",
        "\n",
        "    #Running CWSC algorithm:\n",
        "    print('\\nRunning CWSC algorithm...\\n')\n",
        "    solution_patterns, total_cost = CWSC(k, coverage, fail_tableaux=fail_tableaux, max_coverage=max_coverage)\n",
        "\n",
        "    t4 = timeit.default_timer()\n",
        "    print('Time elapsed: ', t4-t3, '\\n')\n",
        "    print('\\nTotal elapsed time: ', t4-t1, '\\n')\n",
        "\n",
        "    print('\\nTableaux:', '(size = ' + str(len(solution_patterns)) + ')\\n')\n",
        "    for pattern_index in solution_patterns:\n",
        "        print(patterns[pattern_index], 'delta:', pattern_deltas[pattern_index])\n",
        "\n",
        "    return solution_patterns, total_cost"
      ],
      "execution_count": 36,
      "outputs": []
    },
    {
      "cell_type": "code",
      "metadata": {
        "colab": {
          "base_uri": "https://localhost:8080/"
        },
        "id": "hx0qg7kCsW25",
        "outputId": "f270dca9-5304-4327-ddb6-7ad24dd1c642"
      },
      "source": [
        "copy_dataset = dataset[:]\n",
        "print(len(filtered_dataset), len(dataset), len(copy_dataset))\n",
        "\n",
        "# dataset = filtered_dataset\n",
        "# dataset = copy_dataset\n",
        "# dataset = copy_dataset[0:100000]"
      ],
      "execution_count": 37,
      "outputs": [
        {
          "output_type": "stream",
          "name": "stdout",
          "text": [
            "43266 701352 701352\n"
          ]
        }
      ]
    },
    {
      "cell_type": "code",
      "metadata": {
        "colab": {
          "base_uri": "https://localhost:8080/"
        },
        "id": "9VK-ITI7X0i0",
        "outputId": "4731f0e3-36d1-40b1-8410-ab89bb83b81a"
      },
      "source": [
        "# features = ['location', 'day', 'hour', 'source']\n",
        "\n",
        "# Actual MFD tableaux: \n",
        "a, b = generate_MFD_tableaux(\n",
        "    MFD_LHS_attrs = ['OP_CARRIER_AIRLINE_ID', 'OP_CARRIER_FL_NUM', 'ORIGIN', 'DEST'],\n",
        "    MFD_target = 'DEP_DELAY', \n",
        "    k = 50, coverage = 0.6,\n",
        "    fail_tableaux = False)\n",
        "\n",
        "# Fail tableaux: \n",
        "# generate_MFD_tableaux(\n",
        "#     MFD_LHS_attrs = ['location', 'day', 'hour'],\n",
        "#     MFD_target = 'temperature', \n",
        "#     k = 10,\n",
        "#     coverage = 0.05, max_coverage =0.10,\n",
        "#     fail_tableaux = True)"
      ],
      "execution_count": 17,
      "outputs": [
        {
          "output_type": "stream",
          "name": "stdout",
          "text": [
            "\n",
            "Adding all the patterns... \n",
            "\n",
            "[]\n",
            "['OP_CARRIER_AIRLINE_ID']\n",
            "['OP_CARRIER_FL_NUM']\n",
            "['ORIGIN']\n",
            "['DEST']\n",
            "['OP_CARRIER_AIRLINE_ID', 'OP_CARRIER_FL_NUM']\n",
            "['OP_CARRIER_AIRLINE_ID', 'ORIGIN']\n",
            "['OP_CARRIER_AIRLINE_ID', 'DEST']\n",
            "['OP_CARRIER_FL_NUM', 'ORIGIN']\n",
            "['OP_CARRIER_FL_NUM', 'DEST']\n",
            "['ORIGIN', 'DEST']\n",
            "['OP_CARRIER_AIRLINE_ID', 'OP_CARRIER_FL_NUM', 'ORIGIN']\n",
            "['OP_CARRIER_AIRLINE_ID', 'OP_CARRIER_FL_NUM', 'DEST']\n",
            "['OP_CARRIER_AIRLINE_ID', 'ORIGIN', 'DEST']\n",
            "['OP_CARRIER_FL_NUM', 'ORIGIN', 'DEST']\n",
            "['OP_CARRIER_AIRLINE_ID', 'OP_CARRIER_FL_NUM', 'ORIGIN', 'DEST']\n",
            "\n",
            "Adding patterns finished!\n",
            "\n",
            "Time elapsed:  2.5281443789999685\n",
            "Number of patterns:  21775\n",
            "\n",
            "Calculating pattern costs...\n",
            "\n",
            "\n",
            "Calculating pattern costs finished!\n",
            "\n",
            "Time elapsed:  2.493409298000188\n",
            "\n",
            "Running CWSC algorithm...\n",
            "\n",
            "\n",
            "Total cost is  10680.360445154929 \n",
            "\n",
            "Time elapsed:  1.0029474479997589 \n",
            "\n",
            "\n",
            "Total elapsed time:  6.024501124999915 \n",
            "\n",
            "\n",
            "Tableaux: (size = 50)\n",
            "\n",
            "{'ORIGIN': 'LAX', 'DEST': 'SEA'} delta: 93.0\n",
            "{'ORIGIN': 'LAS', 'DEST': 'LAX'} delta: 100.0\n",
            "{'OP_CARRIER_AIRLINE_ID': 'American Airlines Inc.: AA', 'DEST': 'CLT'} delta: 112.0\n",
            "{'OP_CARRIER_AIRLINE_ID': 'United Air Lines Inc.: UA', 'ORIGIN': 'LAX'} delta: 98.0\n",
            "{'ORIGIN': 'ATL', 'DEST': 'LAX'} delta: 96.0\n",
            "{'ORIGIN': 'SEA', 'DEST': 'PHX'} delta: 94.0\n",
            "{'OP_CARRIER_AIRLINE_ID': 'American Airlines Inc.: AA', 'DEST': 'LAX'} delta: 114.0\n",
            "{'ORIGIN': 'CLT', 'DEST': 'ATL'} delta: 100.0\n",
            "{'OP_CARRIER_AIRLINE_ID': 'American Airlines Inc.: AA', 'DEST': 'DEN'} delta: 102.0\n",
            "{'ORIGIN': 'DEN', 'DEST': 'SEA'} delta: 110.0\n",
            "{'OP_CARRIER_AIRLINE_ID': 'Alaska Airlines Inc.: AS', 'DEST': 'LAS'} delta: 95.0\n",
            "{'OP_CARRIER_AIRLINE_ID': 'Delta Air Lines Inc.: DL', 'DEST': 'ORD'} delta: 96.0\n",
            "{'OP_CARRIER_AIRLINE_ID': 'American Airlines Inc.: AA', 'ORIGIN': 'LAX'} delta: 126.0\n",
            "{'OP_CARRIER_AIRLINE_ID': 'Delta Air Lines Inc.: DL', 'DEST': 'BOS'} delta: 108.0\n",
            "{'ORIGIN': 'LAS', 'DEST': 'ATL'} delta: 93.0\n",
            "{'ORIGIN': 'DEN', 'DEST': 'ATL'} delta: 108.0\n",
            "{'OP_CARRIER_AIRLINE_ID': 'Alaska Airlines Inc.: AS', 'ORIGIN': 'SEA'} delta: 128.0\n",
            "{'ORIGIN': 'ATL', 'DEST': 'CLT'} delta: 105.0\n",
            "{'OP_CARRIER_AIRLINE_ID': 'American Airlines Inc.: AA', 'ORIGIN': 'JFK'} delta: 114.0\n",
            "{'OP_CARRIER_AIRLINE_ID': 'American Airlines Inc.: AA', 'DEST': 'ORD'} delta: 144.0\n",
            "{'OP_CARRIER_AIRLINE_ID': 'Delta Air Lines Inc.: DL', 'ORIGIN': 'LAX', 'DEST': 'ATL'} delta: 116.0\n",
            "{'OP_CARRIER_AIRLINE_ID': 'Delta Air Lines Inc.: DL', 'DEST': 'LAS'} delta: 129.0\n",
            "{'OP_CARRIER_AIRLINE_ID': 'Alaska Airlines Inc.: AS', 'DEST': 'SEA'} delta: 135.0\n",
            "{'OP_CARRIER_AIRLINE_ID': 'United Air Lines Inc.: UA', 'ORIGIN': 'LAS'} delta: 86.0\n",
            "{'OP_CARRIER_AIRLINE_ID': 'United Air Lines Inc.: UA', 'DEST': 'LAX'} delta: 131.0\n",
            "{'OP_CARRIER_AIRLINE_ID': 'American Airlines Inc.: AA', 'DEST': 'BOS'} delta: 135.0\n",
            "{'ORIGIN': 'PHX', 'DEST': 'ATL'} delta: 62.0\n",
            "{'OP_CARRIER_AIRLINE_ID': 'Delta Air Lines Inc.: DL', 'ORIGIN': 'SEA', 'DEST': 'LAX'} delta: 90.0\n",
            "{'OP_CARRIER_AIRLINE_ID': 'American Airlines Inc.: AA', 'DEST': 'SEA'} delta: 125.0\n",
            "{'OP_CARRIER_AIRLINE_ID': 'Delta Air Lines Inc.: DL', 'ORIGIN': 'ORD'} delta: 130.0\n",
            "{'OP_CARRIER_AIRLINE_ID': 'United Air Lines Inc.: UA', 'ORIGIN': 'PHX'} delta: 57.0\n",
            "{'OP_CARRIER_AIRLINE_ID': 'United Air Lines Inc.: UA', 'DEST': 'PHX'} delta: 112.0\n",
            "{'OP_CARRIER_AIRLINE_ID': 'American Airlines Inc.: AA', 'DEST': 'PHX'} delta: 148.0\n",
            "{'OP_CARRIER_AIRLINE_ID': 'Delta Air Lines Inc.: DL', 'ORIGIN': 'ATL', 'DEST': 'DEN'} delta: 107.0\n",
            "{'OP_CARRIER_AIRLINE_ID': 'United Air Lines Inc.: UA', 'ORIGIN': 'ORD', 'DEST': 'BOS'} delta: 124.0\n",
            "{'ORIGIN': 'ATL', 'DEST': 'SEA'} delta: 125.0\n",
            "{'ORIGIN': 'BOS', 'DEST': 'LAX'} delta: 128.0\n",
            "{'OP_CARRIER_AIRLINE_ID': 'Republic Airline: YX'} delta: 111.0\n",
            "{'ORIGIN': 'LAX', 'DEST': 'BOS'} delta: 115.0\n",
            "{'OP_CARRIER_AIRLINE_ID': 'Delta Air Lines Inc.: DL', 'ORIGIN': 'JFK', 'DEST': 'LAX'} delta: 128.0\n",
            "{'OP_CARRIER_AIRLINE_ID': 'SkyWest Airlines Inc.: OO', 'ORIGIN': 'LAX'} delta: 95.0\n",
            "{'OP_CARRIER_AIRLINE_ID': 'American Airlines Inc.: AA', 'DEST': 'JFK'} delta: 147.0\n",
            "{'OP_CARRIER_AIRLINE_ID': 'Delta Air Lines Inc.: DL', 'ORIGIN': 'LAS', 'DEST': 'SEA'} delta: 71.0\n",
            "{'OP_CARRIER_AIRLINE_ID': 'Envoy Air: MQ'} delta: 78.0\n",
            "{'OP_CARRIER_AIRLINE_ID': 'SkyWest Airlines Inc.: OO', 'ORIGIN': 'PHX'} delta: 77.0\n",
            "{'OP_CARRIER_AIRLINE_ID': 'American Airlines Inc.: AA', 'ORIGIN': 'PHX', 'DEST': 'LAS'} delta: 80.0\n",
            "{'OP_CARRIER_AIRLINE_ID': 'Compass Airlines: CP', 'ORIGIN': 'SEA', 'DEST': 'LAX'} delta: 84.0\n",
            "{'OP_CARRIER_AIRLINE_ID': 'United Air Lines Inc.: UA', 'ORIGIN': 'ATL'} delta: 69.0\n",
            "{'OP_CARRIER_AIRLINE_ID': 'United Air Lines Inc.: UA', 'ORIGIN': 'SEA', 'DEST': 'ORD'} delta: 85.0\n",
            "{'OP_CARRIER_FL_NUM': '805'} delta: 50.0\n"
          ]
        }
      ]
    },
    {
      "cell_type": "code",
      "metadata": {
        "colab": {
          "base_uri": "https://localhost:8080/"
        },
        "id": "f4KBd6VZon9K",
        "outputId": "f04371b5-81fa-40f2-87dc-429ce07d1406"
      },
      "source": [
        "print(pattern_deltas[0], pattern_deltas[3000], len(pattern_members[0]))"
      ],
      "execution_count": 18,
      "outputs": [
        {
          "output_type": "stream",
          "name": "stdout",
          "text": [
            "893.0 147.0 43266\n"
          ]
        }
      ]
    },
    {
      "cell_type": "code",
      "metadata": {
        "colab": {
          "base_uri": "https://localhost:8080/",
          "height": 665
        },
        "id": "Y-sbJHVVZUg8",
        "outputId": "62b65c27-ab8e-456e-852e-0a46a4c61ed1"
      },
      "source": [
        "import numpy as np \n",
        "\n",
        "print('Dataset size: ', len(dataset))\n",
        "print('Number of patterns: ', len(pattern_deltas))\n",
        "\n",
        "print('Average pattern delta: ', np.mean(pattern_deltas))\n",
        "\n",
        "print('Number of fixed-antecedent groups: ', len(group_deltas.keys()))\n",
        "all_deltas = []\n",
        "for key in group_deltas:\n",
        "    all_deltas.append(group_deltas[key])\n",
        "\n",
        "print('Average group delta: ', np.mean(all_deltas))\n",
        "print('Variance of group deltas: ', np.var(all_deltas))\n",
        "print('STD of group deltas: ', np.std(all_deltas))\n",
        "\n",
        "import plotly.express as px\n",
        "fig = px.histogram(x = all_deltas)\n",
        "fig.show()"
      ],
      "execution_count": 38,
      "outputs": [
        {
          "output_type": "stream",
          "name": "stdout",
          "text": [
            "Dataset size:  701352\n",
            "Number of patterns:  21775\n",
            "Average pattern delta:  46.53363949483352\n",
            "Number of fixed-antecedent groups:  2787\n",
            "Average group delta:  42.194833153928954\n",
            "Variance of group deltas:  2472.406604089493\n",
            "STD of group deltas:  49.7233004142876\n"
          ]
        },
        {
          "output_type": "display_data",
          "data": {
            "text/html": [
              "<html>\n",
              "<head><meta charset=\"utf-8\" /></head>\n",
              "<body>\n",
              "    <div>\n",
              "            <script src=\"https://cdnjs.cloudflare.com/ajax/libs/mathjax/2.7.5/MathJax.js?config=TeX-AMS-MML_SVG\"></script><script type=\"text/javascript\">if (window.MathJax) {MathJax.Hub.Config({SVG: {font: \"STIX-Web\"}});}</script>\n",
              "                <script type=\"text/javascript\">window.PlotlyConfig = {MathJaxConfig: 'local'};</script>\n",
              "        <script src=\"https://cdn.plot.ly/plotly-latest.min.js\"></script>    \n",
              "            <div id=\"e3958bc1-ab6d-4a47-9f47-2bc1b5a8092b\" class=\"plotly-graph-div\" style=\"height:525px; width:100%;\"></div>\n",
              "            <script type=\"text/javascript\">\n",
              "                \n",
              "                    window.PLOTLYENV=window.PLOTLYENV || {};\n",
              "                    \n",
              "                if (document.getElementById(\"e3958bc1-ab6d-4a47-9f47-2bc1b5a8092b\")) {\n",
              "                    Plotly.newPlot(\n",
              "                        'e3958bc1-ab6d-4a47-9f47-2bc1b5a8092b',\n",
              "                        [{\"alignmentgroup\": \"True\", \"bingroup\": \"x\", \"hoverlabel\": {\"namelength\": 0}, \"hovertemplate\": \"x=%{x}<br>count=%{y}\", \"legendgroup\": \"\", \"marker\": {\"color\": \"#636efa\"}, \"name\": \"\", \"offsetgroup\": \"\", \"orientation\": \"v\", \"showlegend\": false, \"type\": \"histogram\", \"x\": [112.0, 14.0, 71.0, 88.0, 11.0, 41.0, 19.0, 16.0, 33.0, 64.0, 92.0, 31.0, 26.0, 17.0, 34.0, 26.0, 28.0, 36.0, 85.0, 136.0, 25.0, 21.0, 19.0, 7.0, 93.0, 66.0, 113.0, 43.0, 48.0, 54.0, 34.0, 65.0, 113.0, 15.0, 9.0, 39.0, 11.0, 43.0, 44.0, 105.0, 135.0, 37.0, 37.0, 46.0, 9.0, 43.0, 117.0, 56.0, 61.0, 50.0, 31.0, 25.0, 13.0, 23.0, 11.0, 65.0, 73.0, 91.0, 35.0, 11.0, 34.0, 36.0, 47.0, 116.0, 39.0, 114.0, 21.0, 99.0, 78.0, 51.0, 8.0, 26.0, 14.0, 6.0, 32.0, 22.0, 12.0, 46.0, 94.0, 27.0, 64.0, 89.0, 42.0, 58.0, 72.0, 19.0, 52.0, 129.0, 18.0, 10.0, 58.0, 47.0, 15.0, 52.0, 41.0, 23.0, 135.0, 23.0, 47.0, 62.0, 50.0, 14.0, 61.0, 84.0, 26.0, 42.0, 72.0, 70.0, 35.0, 48.0, 9.0, 20.0, 13.0, 29.0, 41.0, 9.0, 247.0, 60.0, 5.0, 36.0, 6.0, 22.0, 76.0, 67.0, 55.0, 28.0, 34.0, 43.0, 30.0, 9.0, 91.0, 8.0, 129.0, 11.0, 29.0, 35.0, 16.0, 83.0, 22.0, 17.0, 35.0, 52.0, 125.0, 118.0, 45.0, 54.0, 33.0, 48.0, 41.0, 101.0, 27.0, 156.0, 231.0, 29.0, 322.0, 18.0, 58.0, 128.0, 32.0, 51.0, 30.0, 13.0, 123.0, 44.0, 47.0, 13.0, 33.0, 11.0, 133.0, 32.0, 25.0, 105.0, 54.0, 56.0, 27.0, 348.0, 129.0, 90.0, 56.0, 81.0, 80.0, 24.0, 50.0, 18.0, 44.0, 17.0, 66.0, 2.0, 17.0, 67.0, 24.0, 8.0, 32.0, 87.0, 6.0, 39.0, 19.0, 21.0, 9.0, 155.0, 8.0, 94.0, 133.0, 22.0, 19.0, 26.0, 10.0, 24.0, 8.0, 94.0, 36.0, 40.0, 48.0, 71.0, 104.0, 6.0, 18.0, 22.0, 34.0, 18.0, 95.0, 32.0, 84.0, 17.0, 38.0, 51.0, 31.0, 62.0, 87.0, 34.0, 31.0, 19.0, 22.0, 76.0, 24.0, 6.0, 10.0, 18.0, 116.0, 39.0, 13.0, 16.0, 12.0, 9.0, 43.0, 80.0, 56.0, 16.0, 24.0, 157.0, 25.0, 41.0, 24.0, 265.0, 21.0, 96.0, 29.0, 44.0, 19.0, 95.0, 74.0, 41.0, 10.0, 10.0, 124.0, 24.0, 32.0, 25.0, 39.0, 30.0, 60.0, 7.0, 54.0, 12.0, 44.0, 39.0, 74.0, 46.0, 68.0, 13.0, 93.0, 74.0, 22.0, 16.0, 13.0, 34.0, 96.0, 109.0, 108.0, 46.0, 64.0, 29.0, 72.0, 46.0, 80.0, 893.0, 56.0, 60.0, 38.0, 56.0, 62.0, 15.0, 34.0, 79.0, 46.0, 45.0, 37.0, 10.0, 48.0, 53.0, 130.0, 65.0, 107.0, 26.0, 25.0, 125.0, 12.0, 36.0, 13.0, 30.0, 27.0, 104.0, 65.0, 10.0, 45.0, 82.0, 12.0, 97.0, 68.0, 11.0, 93.0, 13.0, 28.0, 67.0, 62.0, 25.0, 280.0, 35.0, 34.0, 103.0, 77.0, 13.0, 31.0, 39.0, 26.0, 62.0, 5.0, 9.0, 46.0, 85.0, 43.0, 13.0, 93.0, 37.0, 6.0, 89.0, 51.0, 36.0, 71.0, 59.0, 35.0, 23.0, 12.0, 95.0, 29.0, 64.0, 63.0, 16.0, 21.0, 7.0, 9.0, 15.0, 56.0, 82.0, 9.0, 57.0, 238.0, 175.0, 49.0, 29.0, 10.0, 129.0, 64.0, 23.0, 15.0, 39.0, 41.0, 10.0, 20.0, 10.0, 8.0, 84.0, 32.0, 80.0, 79.0, 28.0, 90.0, 119.0, 19.0, 20.0, 36.0, 207.0, 60.0, 28.0, 38.0, 8.0, 32.0, 108.0, 22.0, 61.0, 10.0, 15.0, 31.0, 11.0, 17.0, 159.0, 11.0, 29.0, 19.0, 44.0, 19.0, 157.0, 3.0, 170.0, 11.0, 19.0, 30.0, 67.0, 63.0, 62.0, 7.0, 53.0, 34.0, 35.0, 83.0, 51.0, 17.0, 77.0, 30.0, 48.0, 33.0, 105.0, 50.0, 79.0, 34.0, 23.0, 57.0, 169.0, 80.0, 123.0, 213.0, 450.0, 68.0, 66.0, 135.0, 82.0, 96.0, 108.0, 97.0, 64.0, 35.0, 17.0, 73.0, 8.0, 162.0, 65.0, 16.0, 12.0, 42.0, 39.0, 77.0, 81.0, 17.0, 95.0, 14.0, 203.0, 55.0, 45.0, 66.0, 51.0, 54.0, 49.0, 37.0, 106.0, 86.0, 8.0, 26.0, 132.0, 95.0, 105.0, 28.0, 23.0, 14.0, 10.0, 10.0, 10.0, 16.0, 54.0, 167.0, 138.0, 116.0, 95.0, 49.0, 21.0, 148.0, 29.0, 45.0, 185.0, 11.0, 108.0, 62.0, 50.0, 48.0, 20.0, 211.0, 245.0, 156.0, 47.0, 12.0, 91.0, 83.0, 9.0, 100.0, 46.0, 92.0, 20.0, 46.0, 13.0, 125.0, 28.0, 27.0, 73.0, 14.0, 33.0, 57.0, 103.0, 113.0, 39.0, 10.0, 27.0, 9.0, 28.0, 66.0, 33.0, 69.0, 49.0, 9.0, 32.0, 58.0, 10.0, 38.0, 26.0, 18.0, 45.0, 101.0, 95.0, 40.0, 73.0, 13.0, 53.0, 43.0, 83.0, 19.0, 7.0, 10.0, 12.0, 114.0, 46.0, 8.0, 61.0, 22.0, 46.0, 22.0, 0.0, 57.0, 89.0, 28.0, 17.0, 12.0, 62.0, 93.0, 144.0, 63.0, 40.0, 33.0, 9.0, 51.0, 18.0, 36.0, 71.0, 31.0, 95.0, 64.0, 57.0, 56.0, 46.0, 102.0, 20.0, 69.0, 46.0, 137.0, 165.0, 187.0, 24.0, 84.0, 18.0, 142.0, 19.0, 99.0, 67.0, 84.0, 106.0, 141.0, 128.0, 62.0, 115.0, 28.0, 99.0, 25.0, 129.0, 52.0, 151.0, 147.0, 178.0, 157.0, 83.0, 59.0, 19.0, 87.0, 14.0, 149.0, 25.0, 103.0, 86.0, 81.0, 106.0, 23.0, 92.0, 181.0, 76.0, 9.0, 17.0, 102.0, 36.0, 6.0, 51.0, 73.0, 101.0, 2.0, 23.0, 4.0, 2.0, 76.0, 63.0, 32.0, 125.0, 8.0, 52.0, 72.0, 4.0, 24.0, 8.0, 133.0, 37.0, 30.0, 135.0, 92.0, 29.0, 21.0, 40.0, 47.0, 27.0, 124.0, 68.0, 82.0, 52.0, 41.0, 123.0, 20.0, 29.0, 13.0, 46.0, 11.0, 21.0, 15.0, 54.0, 20.0, 13.0, 16.0, 22.0, 57.0, 31.0, 40.0, 52.0, 89.0, 36.0, 23.0, 83.0, 11.0, 56.0, 37.0, 24.0, 43.0, 11.0, 30.0, 62.0, 15.0, 24.0, 33.0, 42.0, 80.0, 14.0, 105.0, 47.0, 35.0, 35.0, 21.0, 74.0, 42.0, 30.0, 57.0, 85.0, 51.0, 41.0, 43.0, 15.0, 33.0, 25.0, 59.0, 85.0, 58.0, 74.0, 134.0, 18.0, 90.0, 62.0, 153.0, 24.0, 75.0, 66.0, 97.0, 53.0, 78.0, 34.0, 52.0, 161.0, 26.0, 34.0, 30.0, 132.0, 151.0, 65.0, 42.0, 66.0, 14.0, 40.0, 52.0, 59.0, 30.0, 39.0, 55.0, 69.0, 42.0, 55.0, 95.0, 117.0, 55.0, 22.0, 96.0, 20.0, 71.0, 54.0, 69.0, 50.0, 81.0, 41.0, 61.0, 44.0, 96.0, 128.0, 41.0, 104.0, 93.0, 88.0, 14.0, 27.0, 83.0, 103.0, 103.0, 64.0, 52.0, 241.0, 24.0, 87.0, 29.0, 13.0, 63.0, 66.0, 142.0, 103.0, 110.0, 50.0, 24.0, 9.0, 54.0, 92.0, 87.0, 9.0, 33.0, 56.0, 21.0, 99.0, 212.0, 27.0, 41.0, 111.0, 21.0, 11.0, 92.0, 26.0, 169.0, 143.0, 33.0, 115.0, 19.0, 130.0, 116.0, 37.0, 94.0, 155.0, 162.0, 120.0, 97.0, 57.0, 14.0, 40.0, 84.0, 32.0, 124.0, 76.0, 57.0, 46.0, 115.0, 218.0, 65.0, 78.0, 43.0, 100.0, 69.0, 4.0, 142.0, 17.0, 237.0, 38.0, 22.0, 52.0, 14.0, 10.0, 77.0, 52.0, 19.0, 64.0, 14.0, 16.0, 125.0, 220.0, 178.0, 40.0, 15.0, 214.0, 21.0, 63.0, 60.0, 17.0, 56.0, 22.0, 123.0, 165.0, 8.0, 72.0, 22.0, 7.0, 13.0, 6.0, 23.0, 39.0, 14.0, 2.0, 19.0, 165.0, 39.0, 6.0, 3.0, 79.0, 3.0, 40.0, 11.0, 167.0, 13.0, 3.0, 42.0, 14.0, 109.0, 55.0, 136.0, 85.0, 58.0, 100.0, 2.0, 69.0, 7.0, 71.0, 73.0, 25.0, 23.0, 79.0, 72.0, 31.0, 100.0, 99.0, 206.0, 78.0, 6.0, 12.0, 53.0, 21.0, 54.0, 66.0, 44.0, 24.0, 22.0, 25.0, 34.0, 26.0, 81.0, 35.0, 43.0, 74.0, 39.0, 155.0, 9.0, 130.0, 6.0, 34.0, 73.0, 38.0, 63.0, 6.0, 170.0, 26.0, 10.0, 6.0, 47.0, 11.0, 143.0, 52.0, 6.0, 5.0, 7.0, 36.0, 13.0, 6.0, 3.0, 32.0, 65.0, 12.0, 6.0, 36.0, 22.0, 32.0, 153.0, 126.0, 5.0, 171.0, 10.0, 16.0, 3.0, 35.0, 166.0, 24.0, 47.0, 17.0, 5.0, 6.0, 324.0, 17.0, 29.0, 3.0, 295.0, 27.0, 35.0, 120.0, 8.0, 68.0, 64.0, 4.0, 23.0, 11.0, 75.0, 3.0, 9.0, 4.0, 20.0, 47.0, 180.0, 88.0, 5.0, 54.0, 78.0, 19.0, 111.0, 12.0, 5.0, 29.0, 227.0, 31.0, 104.0, 39.0, 147.0, 88.0, 31.0, 41.0, 81.0, 51.0, 40.0, 182.0, 58.0, 23.0, 82.0, 82.0, 22.0, 15.0, 13.0, 44.0, 44.0, 65.0, 93.0, 72.0, 79.0, 6.0, 35.0, 66.0, 67.0, 11.0, 92.0, 36.0, 13.0, 18.0, 60.0, 25.0, 32.0, 73.0, 102.0, 18.0, 107.0, 47.0, 83.0, 99.0, 104.0, 59.0, 22.0, 41.0, 109.0, 27.0, 45.0, 23.0, 43.0, 57.0, 16.0, 106.0, 16.0, 30.0, 112.0, 80.0, 46.0, 74.0, 15.0, 7.0, 76.0, 39.0, 13.0, 99.0, 99.0, 39.0, 58.0, 82.0, 9.0, 79.0, 26.0, 40.0, 61.0, 38.0, 103.0, 59.0, 0.0, 83.0, 83.0, 42.0, 125.0, 13.0, 39.0, 108.0, 66.0, 36.0, 69.0, 51.0, 37.0, 5.0, 9.0, 7.0, 15.0, 41.0, 38.0, 27.0, 6.0, 89.0, 174.0, 21.0, 31.0, 92.0, 0.0, 11.0, 77.0, 56.0, 33.0, 41.0, 54.0, 42.0, 19.0, 4.0, 64.0, 82.0, 92.0, 88.0, 65.0, 21.0, 66.0, 12.0, 112.0, 37.0, 98.0, 61.0, 53.0, 110.0, 37.0, 92.0, 57.0, 45.0, 11.0, 105.0, 145.0, 73.0, 44.0, 61.0, 37.0, 95.0, 148.0, 10.0, 28.0, 30.0, 45.0, 18.0, 13.0, 101.0, 63.0, 8.0, 9.0, 17.0, 139.0, 80.0, 15.0, 33.0, 68.0, 66.0, 17.0, 170.0, 213.0, 58.0, 12.0, 9.0, 101.0, 92.0, 57.0, 77.0, 194.0, 69.0, 196.0, 22.0, 32.0, 77.0, 45.0, 74.0, 8.0, 94.0, 10.0, 137.0, 20.0, 203.0, 61.0, 38.0, 44.0, 55.0, 134.0, 25.0, 27.0, 18.0, 42.0, 89.0, 58.0, 44.0, 20.0, 70.0, 36.0, 6.0, 98.0, 70.0, 15.0, 75.0, 21.0, 31.0, 53.0, 17.0, 20.0, 46.0, 75.0, 73.0, 23.0, 69.0, 75.0, 73.0, 40.0, 14.0, 57.0, 32.0, 11.0, 79.0, 27.0, 10.0, 11.0, 24.0, 51.0, 73.0, 24.0, 190.0, 117.0, 67.0, 112.0, 126.0, 110.0, 39.0, 85.0, 11.0, 21.0, 61.0, 125.0, 93.0, 41.0, 67.0, 32.0, 29.0, 119.0, 22.0, 80.0, 45.0, 28.0, 51.0, 105.0, 8.0, 28.0, 56.0, 52.0, 61.0, 49.0, 124.0, 70.0, 19.0, 51.0, 111.0, 30.0, 17.0, 51.0, 55.0, 27.0, 68.0, 28.0, 32.0, 9.0, 13.0, 64.0, 132.0, 57.0, 68.0, 78.0, 133.0, 10.0, 8.0, 121.0, 17.0, 45.0, 37.0, 69.0, 79.0, 68.0, 18.0, 53.0, 42.0, 81.0, 92.0, 36.0, 61.0, 72.0, 13.0, 84.0, 13.0, 110.0, 21.0, 186.0, 35.0, 100.0, 131.0, 59.0, 91.0, 12.0, 14.0, 94.0, 19.0, 9.0, 68.0, 26.0, 60.0, 24.0, 97.0, 41.0, 38.0, 6.0, 39.0, 7.0, 86.0, 18.0, 72.0, 50.0, 63.0, 25.0, 85.0, 58.0, 57.0, 143.0, 52.0, 155.0, 14.0, 44.0, 93.0, 7.0, 16.0, 50.0, 11.0, 54.0, 54.0, 125.0, 79.0, 24.0, 62.0, 19.0, 77.0, 5.0, 38.0, 82.0, 13.0, 64.0, 28.0, 136.0, 143.0, 77.0, 88.0, 127.0, 96.0, 14.0, 91.0, 48.0, 78.0, 8.0, 14.0, 69.0, 25.0, 13.0, 26.0, 146.0, 147.0, 204.0, 100.0, 90.0, 125.0, 82.0, 138.0, 56.0, 54.0, 83.0, 48.0, 109.0, 110.0, 117.0, 147.0, 85.0, 100.0, 94.0, 165.0, 59.0, 91.0, 50.0, 48.0, 70.0, 41.0, 137.0, 28.0, 76.0, 119.0, 61.0, 55.0, 36.0, 67.0, 7.0, 72.0, 5.0, 10.0, 35.0, 13.0, 58.0, 22.0, 45.0, 111.0, 107.0, 55.0, 23.0, 14.0, 75.0, 58.0, 8.0, 53.0, 81.0, 86.0, 15.0, 59.0, 15.0, 28.0, 86.0, 115.0, 7.0, 104.0, 47.0, 79.0, 52.0, 50.0, 93.0, 305.0, 21.0, 42.0, 27.0, 83.0, 82.0, 37.0, 71.0, 48.0, 19.0, 6.0, 9.0, 26.0, 79.0, 0.0, 7.0, 0.0, 102.0, 18.0, 28.0, 12.0, 160.0, 50.0, 14.0, 11.0, 137.0, 170.0, 4.0, 6.0, 13.0, 14.0, 34.0, 54.0, 0.0, 126.0, 9.0, 2.0, 4.0, 59.0, 417.0, 59.0, 21.0, 0.0, 16.0, 2.0, 9.0, 23.0, 8.0, 57.0, 4.0, 18.0, 1.0, 28.0, 105.0, 8.0, 9.0, 32.0, 82.0, 10.0, 25.0, 5.0, 68.0, 11.0, 157.0, 109.0, 2.0, 0.0, 0.0, 0.0, 0.0, 0.0, 0.0, 0.0, 0.0, 0.0, 0.0, 0.0, 0.0, 0.0, 0.0, 0.0, 0.0, 0.0, 0.0, 0.0, 0.0, 0.0, 0.0, 0.0, 0.0, 0.0, 0.0, 0.0, 0.0, 0.0, 0.0, 0.0, 0.0, 0.0, 0.0, 0.0, 0.0, 0.0, 0.0, 0.0, 0.0, 0.0, 0.0, 0.0, 0.0, 0.0, 0.0, 0.0, 0.0, 0.0, 0.0, 0.0, 0.0, 0.0, 0.0, 0.0, 0.0, 0.0, 0.0, 0.0, 0.0, 0.0, 0.0, 0.0, 0.0, 0.0, 0.0, 0.0, 0.0, 0.0, 0.0, 0.0, 0.0, 0.0, 0.0, 0.0, 0.0, 0.0, 0.0, 0.0, 0.0, 0.0, 0.0, 0.0, 0.0, 0.0, 0.0, 0.0, 0.0, 0.0, 0.0, 0.0, 0.0, 0.0, 0.0, 0.0, 0.0, 0.0, 0.0, 0.0, 0.0, 0.0, 0.0, 0.0, 0.0, 0.0, 0.0, 0.0, 0.0, 0.0, 0.0, 0.0, 0.0, 0.0, 0.0, 0.0, 0.0, 0.0, 0.0, 0.0, 0.0, 0.0, 0.0, 0.0, 0.0, 0.0, 0.0, 20.0, 0.0, 0.0, 0.0, 0.0, 0.0, 0.0, 0.0, 0.0, 10.0, 46.0, 17.0, 66.0, 51.0, 22.0, 9.0, 0.0, 0.0, 0.0, 0.0, 9.0, 38.0, 189.0, 244.0, 31.0, 130.0, 0.0, 3.0, 7.0, 10.0, 7.0, 22.0, 32.0, 9.0, 6.0, 0.0, 0.0, 0.0, 0.0, 0.0, 0.0, 0.0, 0.0, 0.0, 0.0, 0.0, 0.0, 0.0, 0.0, 0.0, 0.0, 0.0, 0.0, 0.0, 0.0, 0.0, 0.0, 0.0, 0.0, 0.0, 0.0, 0.0, 0.0, 39.0, 33.0, 20.0, 11.0, 8.0, 6.0, 13.0, 4.0, 0.0, 0.0, 0.0, 0.0, 0.0, 0.0, 0.0, 0.0, 0.0, 0.0, 0.0, 0.0, 0.0, 0.0, 0.0, 0.0, 0.0, 0.0, 0.0, 0.0, 0.0, 0.0, 0.0, 0.0, 0.0, 0.0, 0.0, 0.0, 0.0, 0.0, 0.0, 0.0, 0.0, 0.0, 0.0, 0.0, 0.0, 0.0, 0.0, 0.0, 0.0, 0.0, 0.0, 0.0, 0.0, 0.0, 0.0, 0.0, 0.0, 0.0, 0.0, 0.0, 0.0, 0.0, 0.0, 0.0, 0.0, 0.0, 0.0, 0.0, 0.0, 0.0, 0.0, 0.0, 0.0, 0.0, 0.0, 0.0, 0.0, 0.0, 0.0, 0.0, 0.0, 0.0, 0.0, 0.0, 0.0, 0.0, 0.0, 0.0, 0.0, 0.0, 0.0, 0.0, 0.0, 0.0, 0.0, 0.0, 0.0, 0.0, 0.0, 0.0, 0.0, 0.0, 0.0, 0.0, 0.0, 0.0, 0.0, 0.0, 0.0, 0.0, 0.0, 0.0, 0.0, 0.0, 0.0, 0.0, 0.0, 0.0, 0.0, 0.0, 0.0, 0.0, 0.0, 0.0, 0.0, 0.0, 0.0, 0.0, 0.0, 0.0, 0.0, 0.0, 0.0, 0.0, 0.0, 0.0, 0.0, 0.0, 0.0, 0.0, 0.0, 33.0, 12.0, 16.0, 0.0, 320.0, 6.0, 74.0, 38.0, 19.0, 93.0, 65.0, 115.0, 0.0, 0.0, 0.0, 0.0, 15.0, 12.0, 24.0, 9.0, 6.0, 22.0, 39.0, 16.0, 55.0, 126.0, 20.0, 77.0, 81.0, 28.0, 6.0, 83.0, 10.0, 24.0, 7.0, 20.0, 19.0, 42.0, 11.0, 14.0, 104.0, 21.0, 94.0, 32.0, 11.0, 10.0, 8.0, 61.0, 80.0, 61.0, 63.0, 32.0, 10.0, 8.0, 7.0, 74.0, 33.0, 39.0, 25.0, 45.0, 30.0, 30.0, 98.0, 26.0, 8.0, 34.0, 16.0, 20.0, 25.0, 29.0, 13.0, 18.0, 6.0, 39.0, 54.0, 16.0, 30.0, 6.0, 31.0, 5.0, 20.0, 16.0, 19.0, 7.0, 4.0, 119.0, 39.0, 165.0, 112.0, 9.0, 15.0, 8.0, 29.0, 73.0, 91.0, 62.0, 33.0, 26.0, 11.0, 18.0, 11.0, 0.0, 6.0, 13.0, 31.0, 46.0, 90.0, 39.0, 7.0, 11.0, 12.0, 25.0, 62.0, 55.0, 79.0, 40.0, 61.0, 68.0, 54.0, 59.0, 16.0, 40.0, 60.0, 127.0, 46.0, 83.0, 9.0, 25.0, 10.0, 60.0, 52.0, 62.0, 9.0, 61.0, 16.0, 6.0, 25.0, 24.0, 0.0, 40.0, 45.0, 48.0, 51.0, 7.0, 4.0, 26.0, 150.0, 7.0, 7.0, 144.0, 7.0, 31.0, 9.0, 42.0, 70.0, 76.0, 21.0, 6.0, 25.0, 159.0, 19.0, 31.0, 6.0, 27.0, 75.0, 5.0, 63.0, 88.0, 22.0, 13.0, 50.0, 21.0, 14.0, 10.0, 10.0, 62.0, 57.0, 23.0, 40.0, 101.0, 96.0, 33.0, 75.0, 57.0, 30.0, 5.0, 7.0, 5.0, 96.0, 11.0, 7.0, 99.0, 48.0, 40.0, 20.0, 6.0, 6.0, 76.0, 0.0, 59.0, 8.0, 5.0, 82.0, 58.0, 24.0, 26.0, 4.0, 5.0, 13.0, 14.0, 44.0, 1.0, 3.0, 11.0, 2.0, 11.0, 19.0, 6.0, 108.0, 78.0, 9.0, 18.0, 3.0, 3.0, 39.0, 7.0, 26.0, 16.0, 3.0, 35.0, 4.0, 12.0, 3.0, 29.0, 10.0, 6.0, 2.0, 27.0, 6.0, 24.0, 1.0, 26.0, 26.0, 3.0, 12.0, 17.0, 57.0, 9.0, 24.0, 20.0, 20.0, 36.0, 4.0, 68.0, 17.0, 4.0, 9.0, 21.0, 12.0, 3.0, 12.0, 5.0, 32.0, 56.0, 126.0, 19.0, 14.0, 1.0, 9.0, 20.0, 55.0, 1.0, 3.0, 9.0, 17.0, 2.0, 65.0, 10.0, 23.0, 3.0, 60.0, 30.0, 13.0, 8.0, 12.0, 8.0, 3.0, 166.0, 7.0, 7.0, 7.0, 1.0, 5.0, 4.0, 12.0, 44.0, 1.0, 18.0, 3.0, 172.0, 13.0, 4.0, 5.0, 4.0, 2.0, 1.0, 5.0, 78.0, 4.0, 17.0, 75.0, 27.0, 16.0, 111.0, 25.0, 26.0, 31.0, 3.0, 30.0, 101.0, 15.0, 3.0, 3.0, 13.0, 28.0, 6.0, 20.0, 2.0, 13.0, 2.0, 0.0, 90.0, 74.0, 0.0, 0.0, 0.0, 0.0, 11.0, 6.0, 153.0, 6.0, 24.0, 7.0, 27.0, 8.0, 1.0, 20.0, 50.0, 18.0, 314.0, 35.0, 6.0, 43.0, 2.0, 33.0, 10.0, 4.0, 60.0, 19.0, 7.0, 21.0, 89.0, 47.0, 23.0, 21.0, 24.0, 40.0, 118.0, 4.0, 0.0, 86.0, 3.0, 13.0, 25.0, 4.0, 44.0, 43.0, 2.0, 3.0, 85.0, 9.0, 8.0, 9.0, 36.0, 2.0, 2.0, 21.0, 5.0, 29.0, 93.0, 47.0, 26.0, 27.0, 19.0, 84.0, 80.0, 28.0, 158.0, 42.0, 65.0, 126.0, 0.0, 5.0, 9.0, 28.0, 22.0, 6.0, 19.0, 3.0, 42.0, 34.0, 2.0, 4.0, 10.0, 9.0, 1.0, 62.0, 12.0, 27.0, 3.0, 5.0, 2.0, 57.0, 19.0, 23.0, 27.0, 19.0, 4.0, 13.0, 12.0, 16.0, 18.0, 4.0, 114.0, 17.0, 24.0, 2.0, 56.0, 201.0, 24.0, 161.0, 125.0, 19.0, 2.0, 14.0, 7.0, 19.0, 3.0, 3.0, 51.0, 14.0, 4.0, 5.0, 14.0, 6.0, 29.0, 62.0, 15.0, 6.0, 165.0, 47.0, 63.0, 4.0, 4.0, 9.0, 14.0, 9.0, 13.0, 36.0, 160.0, 28.0, 60.0, 3.0, 79.0, 86.0, 17.0, 2.0, 34.0, 40.0, 130.0, 10.0, 30.0, 26.0, 3.0, 3.0, 6.0, 11.0, 3.0, 9.0, 4.0, 86.0, 22.0, 5.0, 8.0, 72.0, 30.0, 20.0, 22.0, 62.0, 6.0, 26.0, 9.0, 133.0, 35.0, 42.0, 41.0, 25.0, 10.0, 22.0, 39.0, 8.0, 18.0, 15.0, 198.0, 221.0, 25.0, 33.0, 0.0, 0.0, 49.0, 43.0, 33.0, 26.0, 157.0, 189.0, 41.0, 127.0, 37.0, 45.0, 130.0, 189.0, 7.0, 10.0, 25.0, 122.0, 30.0, 17.0, 38.0, 17.0, 53.0, 8.0, 40.0, 21.0, 5.0, 8.0, 8.0, 7.0, 26.0, 10.0, 67.0, 12.0, 18.0, 5.0, 5.0, 2.0, 32.0, 5.0, 93.0, 27.0, 32.0, 43.0, 17.0, 15.0, 52.0, 38.0, 53.0, 27.0, 35.0, 7.0, 8.0, 10.0, 13.0, 22.0, 50.0, 67.0, 9.0, 8.0, 27.0, 53.0, 18.0, 9.0, 13.0, 31.0, 52.0, 9.0, 80.0, 76.0, 29.0, 31.0, 22.0, 7.0, 11.0, 12.0, 18.0, 9.0, 13.0, 43.0, 10.0, 45.0, 5.0, 10.0, 71.0, 37.0, 37.0, 21.0, 9.0, 65.0, 6.0, 79.0, 39.0, 90.0, 35.0, 23.0, 40.0, 23.0, 89.0, 40.0, 79.0, 61.0, 21.0, 11.0, 23.0, 6.0, 19.0, 10.0, 12.0, 8.0, 17.0, 17.0, 39.0, 14.0, 7.0, 46.0, 9.0, 27.0, 8.0, 14.0, 17.0, 38.0, 33.0, 14.0, 37.0, 6.0, 56.0, 18.0, 18.0, 20.0, 22.0, 10.0, 32.0, 24.0, 100.0, 61.0, 10.0, 92.0, 96.0, 50.0, 73.0, 84.0, 12.0, 10.0, 13.0, 48.0, 55.0, 45.0, 7.0, 21.0, 88.0, 176.0, 10.0, 5.0, 137.0, 161.0, 14.0, 0.0, 90.0, 77.0, 8.0, 11.0, 0.0, 24.0, 26.0, 7.0, 1.0, 0.0, 1.0, 1.0, 7.0, 11.0, 2.0, 7.0, 2.0, 128.0, 6.0, 22.0, 2.0, 7.0, 10.0, 3.0, 5.0, 3.0, 10.0, 3.0, 5.0, 5.0, 179.0, 2.0, 28.0, 205.0, 0.0, 5.0, 5.0, 3.0, 4.0, 4.0, 0.0, 0.0, 17.0, 0.0, 89.0, 0.0, 131.0, 15.0, 12.0, 28.0, 7.0, 9.0, 60.0, 8.0, 12.0, 38.0, 0.0, 0.0, 56.0, 9.0, 6.0, 8.0, 34.0, 25.0, 0.0, 11.0, 10.0, 15.0, 8.0, 8.0, 6.0, 83.0, 39.0, 31.0, 25.0, 9.0, 67.0, 30.0, 8.0, 9.0, 73.0, 66.0, 28.0, 8.0, 29.0, 35.0, 38.0, 37.0, 19.0, 24.0, 16.0, 8.0, 27.0, 96.0, 24.0, 49.0, 8.0, 8.0, 6.0, 36.0, 26.0, 49.0, 15.0, 5.0, 5.0, 4.0, 21.0, 0.0, 14.0, 19.0, 12.0, 0.0, 32.0, 12.0, 10.0, 67.0, 7.0, 24.0, 4.0, 9.0, 61.0, 27.0, 4.0, 26.0, 6.0, 4.0, 41.0, 5.0, 20.0, 5.0, 6.0, 89.0, 0.0, 2.0, 155.0, 15.0, 29.0, 106.0, 10.0, 69.0, 22.0, 13.0, 6.0, 39.0, 6.0, 10.0, 8.0, 39.0, 26.0, 26.0, 0.0, 0.0, 7.0, 4.0, 5.0, 4.0, 66.0, 2.0, 4.0, 2.0, 33.0, 16.0, 13.0, 6.0, 23.0, 7.0, 57.0, 78.0, 40.0, 6.0, 22.0, 3.0, 25.0, 48.0, 8.0, 45.0, 5.0, 2.0, 32.0, 1.0, 2.0, 0.0, 1.0, 0.0, 0.0, 0.0, 0.0, 0.0, 0.0, 0.0, 0.0, 0.0, 0.0, 0.0, 0.0, 0.0, 0.0, 0.0, 8.0, 5.0, 3.0, 8.0, 43.0, 12.0, 15.0, 28.0, 11.0, 8.0, 32.0, 7.0, 14.0, 9.0, 1.0, 6.0, 36.0, 23.0, 39.0, 7.0, 26.0, 27.0, 3.0, 12.0, 18.0, 8.0, 69.0, 7.0, 19.0, 8.0, 14.0, 11.0, 33.0, 9.0, 13.0, 6.0, 13.0, 13.0, 27.0, 64.0, 50.0, 14.0, 5.0, 26.0, 3.0, 0.0, 14.0, 8.0, 0.0, 30.0, 18.0, 69.0, 2.0, 74.0, 3.0, 0.0, 0.0, 0.0, 0.0, 7.0, 0.0, 0.0, 0.0, 0.0, 0.0], \"xaxis\": \"x\", \"yaxis\": \"y\"}],\n",
              "                        {\"barmode\": \"relative\", \"legend\": {\"tracegroupgap\": 0}, \"margin\": {\"t\": 60}, \"template\": {\"data\": {\"bar\": [{\"error_x\": {\"color\": \"#2a3f5f\"}, \"error_y\": {\"color\": \"#2a3f5f\"}, \"marker\": {\"line\": {\"color\": \"#E5ECF6\", \"width\": 0.5}}, \"type\": \"bar\"}], \"barpolar\": [{\"marker\": {\"line\": {\"color\": \"#E5ECF6\", \"width\": 0.5}}, \"type\": \"barpolar\"}], \"carpet\": [{\"aaxis\": {\"endlinecolor\": \"#2a3f5f\", \"gridcolor\": \"white\", \"linecolor\": \"white\", \"minorgridcolor\": \"white\", \"startlinecolor\": \"#2a3f5f\"}, \"baxis\": {\"endlinecolor\": \"#2a3f5f\", \"gridcolor\": \"white\", \"linecolor\": \"white\", \"minorgridcolor\": \"white\", \"startlinecolor\": \"#2a3f5f\"}, \"type\": \"carpet\"}], \"choropleth\": [{\"colorbar\": {\"outlinewidth\": 0, \"ticks\": \"\"}, \"type\": \"choropleth\"}], \"contour\": [{\"colorbar\": {\"outlinewidth\": 0, \"ticks\": \"\"}, \"colorscale\": [[0.0, \"#0d0887\"], [0.1111111111111111, \"#46039f\"], [0.2222222222222222, \"#7201a8\"], [0.3333333333333333, \"#9c179e\"], [0.4444444444444444, \"#bd3786\"], [0.5555555555555556, \"#d8576b\"], [0.6666666666666666, \"#ed7953\"], [0.7777777777777778, \"#fb9f3a\"], [0.8888888888888888, \"#fdca26\"], [1.0, \"#f0f921\"]], \"type\": \"contour\"}], \"contourcarpet\": [{\"colorbar\": {\"outlinewidth\": 0, \"ticks\": \"\"}, \"type\": \"contourcarpet\"}], \"heatmap\": [{\"colorbar\": {\"outlinewidth\": 0, \"ticks\": \"\"}, \"colorscale\": [[0.0, \"#0d0887\"], [0.1111111111111111, \"#46039f\"], [0.2222222222222222, \"#7201a8\"], [0.3333333333333333, \"#9c179e\"], [0.4444444444444444, \"#bd3786\"], [0.5555555555555556, \"#d8576b\"], [0.6666666666666666, \"#ed7953\"], [0.7777777777777778, \"#fb9f3a\"], [0.8888888888888888, \"#fdca26\"], [1.0, \"#f0f921\"]], \"type\": \"heatmap\"}], \"heatmapgl\": [{\"colorbar\": {\"outlinewidth\": 0, \"ticks\": \"\"}, \"colorscale\": [[0.0, \"#0d0887\"], [0.1111111111111111, \"#46039f\"], [0.2222222222222222, \"#7201a8\"], [0.3333333333333333, \"#9c179e\"], [0.4444444444444444, \"#bd3786\"], [0.5555555555555556, \"#d8576b\"], [0.6666666666666666, \"#ed7953\"], [0.7777777777777778, \"#fb9f3a\"], [0.8888888888888888, \"#fdca26\"], [1.0, \"#f0f921\"]], \"type\": \"heatmapgl\"}], \"histogram\": [{\"marker\": {\"colorbar\": {\"outlinewidth\": 0, \"ticks\": \"\"}}, \"type\": \"histogram\"}], \"histogram2d\": [{\"colorbar\": {\"outlinewidth\": 0, \"ticks\": \"\"}, \"colorscale\": [[0.0, \"#0d0887\"], [0.1111111111111111, \"#46039f\"], [0.2222222222222222, \"#7201a8\"], [0.3333333333333333, \"#9c179e\"], [0.4444444444444444, \"#bd3786\"], [0.5555555555555556, \"#d8576b\"], [0.6666666666666666, \"#ed7953\"], [0.7777777777777778, \"#fb9f3a\"], [0.8888888888888888, \"#fdca26\"], [1.0, \"#f0f921\"]], \"type\": \"histogram2d\"}], \"histogram2dcontour\": [{\"colorbar\": {\"outlinewidth\": 0, \"ticks\": \"\"}, \"colorscale\": [[0.0, \"#0d0887\"], [0.1111111111111111, \"#46039f\"], [0.2222222222222222, \"#7201a8\"], [0.3333333333333333, \"#9c179e\"], [0.4444444444444444, \"#bd3786\"], [0.5555555555555556, \"#d8576b\"], [0.6666666666666666, \"#ed7953\"], [0.7777777777777778, \"#fb9f3a\"], [0.8888888888888888, \"#fdca26\"], [1.0, \"#f0f921\"]], \"type\": \"histogram2dcontour\"}], \"mesh3d\": [{\"colorbar\": {\"outlinewidth\": 0, \"ticks\": \"\"}, \"type\": \"mesh3d\"}], \"parcoords\": [{\"line\": {\"colorbar\": {\"outlinewidth\": 0, \"ticks\": \"\"}}, \"type\": \"parcoords\"}], \"pie\": [{\"automargin\": true, \"type\": \"pie\"}], \"scatter\": [{\"marker\": {\"colorbar\": {\"outlinewidth\": 0, \"ticks\": \"\"}}, \"type\": \"scatter\"}], \"scatter3d\": [{\"line\": {\"colorbar\": {\"outlinewidth\": 0, \"ticks\": \"\"}}, \"marker\": {\"colorbar\": {\"outlinewidth\": 0, \"ticks\": \"\"}}, \"type\": \"scatter3d\"}], \"scattercarpet\": [{\"marker\": {\"colorbar\": {\"outlinewidth\": 0, \"ticks\": \"\"}}, \"type\": \"scattercarpet\"}], \"scattergeo\": [{\"marker\": {\"colorbar\": {\"outlinewidth\": 0, \"ticks\": \"\"}}, \"type\": \"scattergeo\"}], \"scattergl\": [{\"marker\": {\"colorbar\": {\"outlinewidth\": 0, \"ticks\": \"\"}}, \"type\": \"scattergl\"}], \"scattermapbox\": [{\"marker\": {\"colorbar\": {\"outlinewidth\": 0, \"ticks\": \"\"}}, \"type\": \"scattermapbox\"}], \"scatterpolar\": [{\"marker\": {\"colorbar\": {\"outlinewidth\": 0, \"ticks\": \"\"}}, \"type\": \"scatterpolar\"}], \"scatterpolargl\": [{\"marker\": {\"colorbar\": {\"outlinewidth\": 0, \"ticks\": \"\"}}, \"type\": \"scatterpolargl\"}], \"scatterternary\": [{\"marker\": {\"colorbar\": {\"outlinewidth\": 0, \"ticks\": \"\"}}, \"type\": \"scatterternary\"}], \"surface\": [{\"colorbar\": {\"outlinewidth\": 0, \"ticks\": \"\"}, \"colorscale\": [[0.0, \"#0d0887\"], [0.1111111111111111, \"#46039f\"], [0.2222222222222222, \"#7201a8\"], [0.3333333333333333, \"#9c179e\"], [0.4444444444444444, \"#bd3786\"], [0.5555555555555556, \"#d8576b\"], [0.6666666666666666, \"#ed7953\"], [0.7777777777777778, \"#fb9f3a\"], [0.8888888888888888, \"#fdca26\"], [1.0, \"#f0f921\"]], \"type\": \"surface\"}], \"table\": [{\"cells\": {\"fill\": {\"color\": \"#EBF0F8\"}, \"line\": {\"color\": \"white\"}}, \"header\": {\"fill\": {\"color\": \"#C8D4E3\"}, \"line\": {\"color\": \"white\"}}, \"type\": \"table\"}]}, \"layout\": {\"annotationdefaults\": {\"arrowcolor\": \"#2a3f5f\", \"arrowhead\": 0, \"arrowwidth\": 1}, \"coloraxis\": {\"colorbar\": {\"outlinewidth\": 0, \"ticks\": \"\"}}, \"colorscale\": {\"diverging\": [[0, \"#8e0152\"], [0.1, \"#c51b7d\"], [0.2, \"#de77ae\"], [0.3, \"#f1b6da\"], [0.4, \"#fde0ef\"], [0.5, \"#f7f7f7\"], [0.6, \"#e6f5d0\"], [0.7, \"#b8e186\"], [0.8, \"#7fbc41\"], [0.9, \"#4d9221\"], [1, \"#276419\"]], \"sequential\": [[0.0, \"#0d0887\"], [0.1111111111111111, \"#46039f\"], [0.2222222222222222, \"#7201a8\"], [0.3333333333333333, \"#9c179e\"], [0.4444444444444444, \"#bd3786\"], [0.5555555555555556, \"#d8576b\"], [0.6666666666666666, \"#ed7953\"], [0.7777777777777778, \"#fb9f3a\"], [0.8888888888888888, \"#fdca26\"], [1.0, \"#f0f921\"]], \"sequentialminus\": [[0.0, \"#0d0887\"], [0.1111111111111111, \"#46039f\"], [0.2222222222222222, \"#7201a8\"], [0.3333333333333333, \"#9c179e\"], [0.4444444444444444, \"#bd3786\"], [0.5555555555555556, \"#d8576b\"], [0.6666666666666666, \"#ed7953\"], [0.7777777777777778, \"#fb9f3a\"], [0.8888888888888888, \"#fdca26\"], [1.0, \"#f0f921\"]]}, \"colorway\": [\"#636efa\", \"#EF553B\", \"#00cc96\", \"#ab63fa\", \"#FFA15A\", \"#19d3f3\", \"#FF6692\", \"#B6E880\", \"#FF97FF\", \"#FECB52\"], \"font\": {\"color\": \"#2a3f5f\"}, \"geo\": {\"bgcolor\": \"white\", \"lakecolor\": \"white\", \"landcolor\": \"#E5ECF6\", \"showlakes\": true, \"showland\": true, \"subunitcolor\": \"white\"}, \"hoverlabel\": {\"align\": \"left\"}, \"hovermode\": \"closest\", \"mapbox\": {\"style\": \"light\"}, \"paper_bgcolor\": \"white\", \"plot_bgcolor\": \"#E5ECF6\", \"polar\": {\"angularaxis\": {\"gridcolor\": \"white\", \"linecolor\": \"white\", \"ticks\": \"\"}, \"bgcolor\": \"#E5ECF6\", \"radialaxis\": {\"gridcolor\": \"white\", \"linecolor\": \"white\", \"ticks\": \"\"}}, \"scene\": {\"xaxis\": {\"backgroundcolor\": \"#E5ECF6\", \"gridcolor\": \"white\", \"gridwidth\": 2, \"linecolor\": \"white\", \"showbackground\": true, \"ticks\": \"\", \"zerolinecolor\": \"white\"}, \"yaxis\": {\"backgroundcolor\": \"#E5ECF6\", \"gridcolor\": \"white\", \"gridwidth\": 2, \"linecolor\": \"white\", \"showbackground\": true, \"ticks\": \"\", \"zerolinecolor\": \"white\"}, \"zaxis\": {\"backgroundcolor\": \"#E5ECF6\", \"gridcolor\": \"white\", \"gridwidth\": 2, \"linecolor\": \"white\", \"showbackground\": true, \"ticks\": \"\", \"zerolinecolor\": \"white\"}}, \"shapedefaults\": {\"line\": {\"color\": \"#2a3f5f\"}}, \"ternary\": {\"aaxis\": {\"gridcolor\": \"white\", \"linecolor\": \"white\", \"ticks\": \"\"}, \"baxis\": {\"gridcolor\": \"white\", \"linecolor\": \"white\", \"ticks\": \"\"}, \"bgcolor\": \"#E5ECF6\", \"caxis\": {\"gridcolor\": \"white\", \"linecolor\": \"white\", \"ticks\": \"\"}}, \"title\": {\"x\": 0.05}, \"xaxis\": {\"automargin\": true, \"gridcolor\": \"white\", \"linecolor\": \"white\", \"ticks\": \"\", \"title\": {\"standoff\": 15}, \"zerolinecolor\": \"white\", \"zerolinewidth\": 2}, \"yaxis\": {\"automargin\": true, \"gridcolor\": \"white\", \"linecolor\": \"white\", \"ticks\": \"\", \"title\": {\"standoff\": 15}, \"zerolinecolor\": \"white\", \"zerolinewidth\": 2}}}, \"xaxis\": {\"anchor\": \"y\", \"domain\": [0.0, 1.0], \"title\": {\"text\": \"x\"}}, \"yaxis\": {\"anchor\": \"x\", \"domain\": [0.0, 1.0], \"title\": {\"text\": \"count\"}}},\n",
              "                        {\"responsive\": true}\n",
              "                    ).then(function(){\n",
              "                            \n",
              "var gd = document.getElementById('e3958bc1-ab6d-4a47-9f47-2bc1b5a8092b');\n",
              "var x = new MutationObserver(function (mutations, observer) {{\n",
              "        var display = window.getComputedStyle(gd).display;\n",
              "        if (!display || display === 'none') {{\n",
              "            console.log([gd, 'removed!']);\n",
              "            Plotly.purge(gd);\n",
              "            observer.disconnect();\n",
              "        }}\n",
              "}});\n",
              "\n",
              "// Listen for the removal of the full notebook cells\n",
              "var notebookContainer = gd.closest('#notebook-container');\n",
              "if (notebookContainer) {{\n",
              "    x.observe(notebookContainer, {childList: true});\n",
              "}}\n",
              "\n",
              "// Listen for the clearing of the current output cell\n",
              "var outputEl = gd.closest('.output');\n",
              "if (outputEl) {{\n",
              "    x.observe(outputEl, {childList: true});\n",
              "}}\n",
              "\n",
              "                        })\n",
              "                };\n",
              "                \n",
              "            </script>\n",
              "        </div>\n",
              "</body>\n",
              "</html>"
            ]
          },
          "metadata": {}
        }
      ]
    },
    {
      "cell_type": "code",
      "metadata": {
        "id": "LuRT-9KDq9w4"
      },
      "source": [
        "%%capture\n",
        "\n",
        "import timeit\n",
        "\n",
        "tableau_sizes = []\n",
        "running_times = []\n",
        "\n",
        "# dataset = copy_dataset[0:100000]\n",
        "\n",
        "for i in range(50, 401, 50):\n",
        "    \n",
        "    t1 = timeit.default_timer()\n",
        "    a, b = generate_MFD_tableaux(\n",
        "        MFD_LHS_attrs = ['OP_CARRIER_AIRLINE_ID', 'OP_CARRIER_FL_NUM', 'ORIGIN', 'DEST'],\n",
        "        MFD_target = 'DEP_DELAY', \n",
        "        k = i, coverage = 0.6, confidence = 0.9,\n",
        "        fail_tableaux = False)\n",
        "    t2 = timeit.default_timer()\n",
        "\n",
        "    tableau_sizes.append(i)\n",
        "    running_times.append(t2-t1)\n",
        "\n",
        "dataset = copy_dataset[:]"
      ],
      "execution_count": 39,
      "outputs": []
    },
    {
      "cell_type": "code",
      "metadata": {
        "colab": {
          "base_uri": "https://localhost:8080/",
          "height": 542
        },
        "id": "0OE4La0irVtR",
        "outputId": "514e7bfe-bab4-4b5f-ad37-94013a28dab8"
      },
      "source": [
        "import plotly\n",
        "import pandas as pd\n",
        "import numpy as np\n",
        "import seaborn as sns\n",
        "import plotly.express as px\n",
        "import matplotlib\n",
        "import matplotlib.pyplot as plt\n",
        "import plotly.graph_objects as go\n",
        "\n",
        "fig = go.Figure()\n",
        "\n",
        "X = []\n",
        "Y = []\n",
        "for i in range(len(running_times)):\n",
        "    # if tableau_sizes[i] in [100, 200, 300, 400, 500, 600]:\n",
        "    X.append(tableau_sizes[i])\n",
        "    Y.append(running_times[i])\n",
        "\n",
        "fig.add_trace(go.Scatter(x=X, y=Y,\n",
        "                    mode='lines+markers'))\n",
        "\n",
        "fig.update_layout(\n",
        "    xaxis = dict(\n",
        "        # tickmode = 'array',\n",
        "        # tickvals = dataset_sizes,\n",
        "        # dtick = 50\n",
        "    ), \n",
        "    yaxis = dict(\n",
        "        # tickmode = 'linear',\n",
        "        # tick0 = 0,\n",
        "        dtick = 20\n",
        "    )\n",
        ")\n",
        "\n",
        "fig.update_yaxes(title=\"<b>Running time (Sec)<b>\")\n",
        "fig.update_xaxes(title='<b>Input tableau size (k)<b>')\n",
        "fig.update_layout(yaxis_tickformat = '1')\n",
        "fig.update_layout(xaxis_tickformat = '1')\n",
        "fig.for_each_xaxis(lambda axis: axis.title.update(font=dict(size=22)))\n",
        "fig.for_each_yaxis(lambda axis: axis.title.update(font=dict(size=22)))\n",
        "\n",
        "fig.update_layout(\n",
        "    font=dict(\n",
        "        # family=\"Courier New, monospace\",\n",
        "        size=22,\n",
        "        # color=\"RebeccaPurple\"\n",
        "    )\n",
        ")\n",
        "\n",
        "fig.show()"
      ],
      "execution_count": 43,
      "outputs": [
        {
          "output_type": "display_data",
          "data": {
            "text/html": [
              "<html>\n",
              "<head><meta charset=\"utf-8\" /></head>\n",
              "<body>\n",
              "    <div>\n",
              "            <script src=\"https://cdnjs.cloudflare.com/ajax/libs/mathjax/2.7.5/MathJax.js?config=TeX-AMS-MML_SVG\"></script><script type=\"text/javascript\">if (window.MathJax) {MathJax.Hub.Config({SVG: {font: \"STIX-Web\"}});}</script>\n",
              "                <script type=\"text/javascript\">window.PlotlyConfig = {MathJaxConfig: 'local'};</script>\n",
              "        <script src=\"https://cdn.plot.ly/plotly-latest.min.js\"></script>    \n",
              "            <div id=\"bea13bdc-7dc5-49a4-8e05-182f6ff1237b\" class=\"plotly-graph-div\" style=\"height:525px; width:100%;\"></div>\n",
              "            <script type=\"text/javascript\">\n",
              "                \n",
              "                    window.PLOTLYENV=window.PLOTLYENV || {};\n",
              "                    \n",
              "                if (document.getElementById(\"bea13bdc-7dc5-49a4-8e05-182f6ff1237b\")) {\n",
              "                    Plotly.newPlot(\n",
              "                        'bea13bdc-7dc5-49a4-8e05-182f6ff1237b',\n",
              "                        [{\"mode\": \"lines+markers\", \"type\": \"scatter\", \"x\": [50, 100, 150, 200, 250, 300, 350, 400], \"y\": [89.31867686300029, 94.5913811320006, 103.05160486000023, 111.60265577099926, 121.34433267200075, 131.99406762799845, 140.6727498879991, 151.93838309900093]}],\n",
              "                        {\"font\": {\"size\": 22}, \"template\": {\"data\": {\"bar\": [{\"error_x\": {\"color\": \"#2a3f5f\"}, \"error_y\": {\"color\": \"#2a3f5f\"}, \"marker\": {\"line\": {\"color\": \"#E5ECF6\", \"width\": 0.5}}, \"type\": \"bar\"}], \"barpolar\": [{\"marker\": {\"line\": {\"color\": \"#E5ECF6\", \"width\": 0.5}}, \"type\": \"barpolar\"}], \"carpet\": [{\"aaxis\": {\"endlinecolor\": \"#2a3f5f\", \"gridcolor\": \"white\", \"linecolor\": \"white\", \"minorgridcolor\": \"white\", \"startlinecolor\": \"#2a3f5f\"}, \"baxis\": {\"endlinecolor\": \"#2a3f5f\", \"gridcolor\": \"white\", \"linecolor\": \"white\", \"minorgridcolor\": \"white\", \"startlinecolor\": \"#2a3f5f\"}, \"type\": \"carpet\"}], \"choropleth\": [{\"colorbar\": {\"outlinewidth\": 0, \"ticks\": \"\"}, \"type\": \"choropleth\"}], \"contour\": [{\"colorbar\": {\"outlinewidth\": 0, \"ticks\": \"\"}, \"colorscale\": [[0.0, \"#0d0887\"], [0.1111111111111111, \"#46039f\"], [0.2222222222222222, \"#7201a8\"], [0.3333333333333333, \"#9c179e\"], [0.4444444444444444, \"#bd3786\"], [0.5555555555555556, \"#d8576b\"], [0.6666666666666666, \"#ed7953\"], [0.7777777777777778, \"#fb9f3a\"], [0.8888888888888888, \"#fdca26\"], [1.0, \"#f0f921\"]], \"type\": \"contour\"}], \"contourcarpet\": [{\"colorbar\": {\"outlinewidth\": 0, \"ticks\": \"\"}, \"type\": \"contourcarpet\"}], \"heatmap\": [{\"colorbar\": {\"outlinewidth\": 0, \"ticks\": \"\"}, \"colorscale\": [[0.0, \"#0d0887\"], [0.1111111111111111, \"#46039f\"], [0.2222222222222222, \"#7201a8\"], [0.3333333333333333, \"#9c179e\"], [0.4444444444444444, \"#bd3786\"], [0.5555555555555556, \"#d8576b\"], [0.6666666666666666, \"#ed7953\"], [0.7777777777777778, \"#fb9f3a\"], [0.8888888888888888, \"#fdca26\"], [1.0, \"#f0f921\"]], \"type\": \"heatmap\"}], \"heatmapgl\": [{\"colorbar\": {\"outlinewidth\": 0, \"ticks\": \"\"}, \"colorscale\": [[0.0, \"#0d0887\"], [0.1111111111111111, \"#46039f\"], [0.2222222222222222, \"#7201a8\"], [0.3333333333333333, \"#9c179e\"], [0.4444444444444444, \"#bd3786\"], [0.5555555555555556, \"#d8576b\"], [0.6666666666666666, \"#ed7953\"], [0.7777777777777778, \"#fb9f3a\"], [0.8888888888888888, \"#fdca26\"], [1.0, \"#f0f921\"]], \"type\": \"heatmapgl\"}], \"histogram\": [{\"marker\": {\"colorbar\": {\"outlinewidth\": 0, \"ticks\": \"\"}}, \"type\": \"histogram\"}], \"histogram2d\": [{\"colorbar\": {\"outlinewidth\": 0, \"ticks\": \"\"}, \"colorscale\": [[0.0, \"#0d0887\"], [0.1111111111111111, \"#46039f\"], [0.2222222222222222, \"#7201a8\"], [0.3333333333333333, \"#9c179e\"], [0.4444444444444444, \"#bd3786\"], [0.5555555555555556, \"#d8576b\"], [0.6666666666666666, \"#ed7953\"], [0.7777777777777778, \"#fb9f3a\"], [0.8888888888888888, \"#fdca26\"], [1.0, \"#f0f921\"]], \"type\": \"histogram2d\"}], \"histogram2dcontour\": [{\"colorbar\": {\"outlinewidth\": 0, \"ticks\": \"\"}, \"colorscale\": [[0.0, \"#0d0887\"], [0.1111111111111111, \"#46039f\"], [0.2222222222222222, \"#7201a8\"], [0.3333333333333333, \"#9c179e\"], [0.4444444444444444, \"#bd3786\"], [0.5555555555555556, \"#d8576b\"], [0.6666666666666666, \"#ed7953\"], [0.7777777777777778, \"#fb9f3a\"], [0.8888888888888888, \"#fdca26\"], [1.0, \"#f0f921\"]], \"type\": \"histogram2dcontour\"}], \"mesh3d\": [{\"colorbar\": {\"outlinewidth\": 0, \"ticks\": \"\"}, \"type\": \"mesh3d\"}], \"parcoords\": [{\"line\": {\"colorbar\": {\"outlinewidth\": 0, \"ticks\": \"\"}}, \"type\": \"parcoords\"}], \"pie\": [{\"automargin\": true, \"type\": \"pie\"}], \"scatter\": [{\"marker\": {\"colorbar\": {\"outlinewidth\": 0, \"ticks\": \"\"}}, \"type\": \"scatter\"}], \"scatter3d\": [{\"line\": {\"colorbar\": {\"outlinewidth\": 0, \"ticks\": \"\"}}, \"marker\": {\"colorbar\": {\"outlinewidth\": 0, \"ticks\": \"\"}}, \"type\": \"scatter3d\"}], \"scattercarpet\": [{\"marker\": {\"colorbar\": {\"outlinewidth\": 0, \"ticks\": \"\"}}, \"type\": \"scattercarpet\"}], \"scattergeo\": [{\"marker\": {\"colorbar\": {\"outlinewidth\": 0, \"ticks\": \"\"}}, \"type\": \"scattergeo\"}], \"scattergl\": [{\"marker\": {\"colorbar\": {\"outlinewidth\": 0, \"ticks\": \"\"}}, \"type\": \"scattergl\"}], \"scattermapbox\": [{\"marker\": {\"colorbar\": {\"outlinewidth\": 0, \"ticks\": \"\"}}, \"type\": \"scattermapbox\"}], \"scatterpolar\": [{\"marker\": {\"colorbar\": {\"outlinewidth\": 0, \"ticks\": \"\"}}, \"type\": \"scatterpolar\"}], \"scatterpolargl\": [{\"marker\": {\"colorbar\": {\"outlinewidth\": 0, \"ticks\": \"\"}}, \"type\": \"scatterpolargl\"}], \"scatterternary\": [{\"marker\": {\"colorbar\": {\"outlinewidth\": 0, \"ticks\": \"\"}}, \"type\": \"scatterternary\"}], \"surface\": [{\"colorbar\": {\"outlinewidth\": 0, \"ticks\": \"\"}, \"colorscale\": [[0.0, \"#0d0887\"], [0.1111111111111111, \"#46039f\"], [0.2222222222222222, \"#7201a8\"], [0.3333333333333333, \"#9c179e\"], [0.4444444444444444, \"#bd3786\"], [0.5555555555555556, \"#d8576b\"], [0.6666666666666666, \"#ed7953\"], [0.7777777777777778, \"#fb9f3a\"], [0.8888888888888888, \"#fdca26\"], [1.0, \"#f0f921\"]], \"type\": \"surface\"}], \"table\": [{\"cells\": {\"fill\": {\"color\": \"#EBF0F8\"}, \"line\": {\"color\": \"white\"}}, \"header\": {\"fill\": {\"color\": \"#C8D4E3\"}, \"line\": {\"color\": \"white\"}}, \"type\": \"table\"}]}, \"layout\": {\"annotationdefaults\": {\"arrowcolor\": \"#2a3f5f\", \"arrowhead\": 0, \"arrowwidth\": 1}, \"coloraxis\": {\"colorbar\": {\"outlinewidth\": 0, \"ticks\": \"\"}}, \"colorscale\": {\"diverging\": [[0, \"#8e0152\"], [0.1, \"#c51b7d\"], [0.2, \"#de77ae\"], [0.3, \"#f1b6da\"], [0.4, \"#fde0ef\"], [0.5, \"#f7f7f7\"], [0.6, \"#e6f5d0\"], [0.7, \"#b8e186\"], [0.8, \"#7fbc41\"], [0.9, \"#4d9221\"], [1, \"#276419\"]], \"sequential\": [[0.0, \"#0d0887\"], [0.1111111111111111, \"#46039f\"], [0.2222222222222222, \"#7201a8\"], [0.3333333333333333, \"#9c179e\"], [0.4444444444444444, \"#bd3786\"], [0.5555555555555556, \"#d8576b\"], [0.6666666666666666, \"#ed7953\"], [0.7777777777777778, \"#fb9f3a\"], [0.8888888888888888, \"#fdca26\"], [1.0, \"#f0f921\"]], \"sequentialminus\": [[0.0, \"#0d0887\"], [0.1111111111111111, \"#46039f\"], [0.2222222222222222, \"#7201a8\"], [0.3333333333333333, \"#9c179e\"], [0.4444444444444444, \"#bd3786\"], [0.5555555555555556, \"#d8576b\"], [0.6666666666666666, \"#ed7953\"], [0.7777777777777778, \"#fb9f3a\"], [0.8888888888888888, \"#fdca26\"], [1.0, \"#f0f921\"]]}, \"colorway\": [\"#636efa\", \"#EF553B\", \"#00cc96\", \"#ab63fa\", \"#FFA15A\", \"#19d3f3\", \"#FF6692\", \"#B6E880\", \"#FF97FF\", \"#FECB52\"], \"font\": {\"color\": \"#2a3f5f\"}, \"geo\": {\"bgcolor\": \"white\", \"lakecolor\": \"white\", \"landcolor\": \"#E5ECF6\", \"showlakes\": true, \"showland\": true, \"subunitcolor\": \"white\"}, \"hoverlabel\": {\"align\": \"left\"}, \"hovermode\": \"closest\", \"mapbox\": {\"style\": \"light\"}, \"paper_bgcolor\": \"white\", \"plot_bgcolor\": \"#E5ECF6\", \"polar\": {\"angularaxis\": {\"gridcolor\": \"white\", \"linecolor\": \"white\", \"ticks\": \"\"}, \"bgcolor\": \"#E5ECF6\", \"radialaxis\": {\"gridcolor\": \"white\", \"linecolor\": \"white\", \"ticks\": \"\"}}, \"scene\": {\"xaxis\": {\"backgroundcolor\": \"#E5ECF6\", \"gridcolor\": \"white\", \"gridwidth\": 2, \"linecolor\": \"white\", \"showbackground\": true, \"ticks\": \"\", \"zerolinecolor\": \"white\"}, \"yaxis\": {\"backgroundcolor\": \"#E5ECF6\", \"gridcolor\": \"white\", \"gridwidth\": 2, \"linecolor\": \"white\", \"showbackground\": true, \"ticks\": \"\", \"zerolinecolor\": \"white\"}, \"zaxis\": {\"backgroundcolor\": \"#E5ECF6\", \"gridcolor\": \"white\", \"gridwidth\": 2, \"linecolor\": \"white\", \"showbackground\": true, \"ticks\": \"\", \"zerolinecolor\": \"white\"}}, \"shapedefaults\": {\"line\": {\"color\": \"#2a3f5f\"}}, \"ternary\": {\"aaxis\": {\"gridcolor\": \"white\", \"linecolor\": \"white\", \"ticks\": \"\"}, \"baxis\": {\"gridcolor\": \"white\", \"linecolor\": \"white\", \"ticks\": \"\"}, \"bgcolor\": \"#E5ECF6\", \"caxis\": {\"gridcolor\": \"white\", \"linecolor\": \"white\", \"ticks\": \"\"}}, \"title\": {\"x\": 0.05}, \"xaxis\": {\"automargin\": true, \"gridcolor\": \"white\", \"linecolor\": \"white\", \"ticks\": \"\", \"title\": {\"standoff\": 15}, \"zerolinecolor\": \"white\", \"zerolinewidth\": 2}, \"yaxis\": {\"automargin\": true, \"gridcolor\": \"white\", \"linecolor\": \"white\", \"ticks\": \"\", \"title\": {\"standoff\": 15}, \"zerolinecolor\": \"white\", \"zerolinewidth\": 2}}}, \"xaxis\": {\"tickformat\": \"1\", \"title\": {\"font\": {\"size\": 22}, \"text\": \"<b>Input tableau size (k)<b>\"}}, \"yaxis\": {\"dtick\": 20, \"tickformat\": \"1\", \"title\": {\"font\": {\"size\": 22}, \"text\": \"<b>Running time (Sec)<b>\"}}},\n",
              "                        {\"responsive\": true}\n",
              "                    ).then(function(){\n",
              "                            \n",
              "var gd = document.getElementById('bea13bdc-7dc5-49a4-8e05-182f6ff1237b');\n",
              "var x = new MutationObserver(function (mutations, observer) {{\n",
              "        var display = window.getComputedStyle(gd).display;\n",
              "        if (!display || display === 'none') {{\n",
              "            console.log([gd, 'removed!']);\n",
              "            Plotly.purge(gd);\n",
              "            observer.disconnect();\n",
              "        }}\n",
              "}});\n",
              "\n",
              "// Listen for the removal of the full notebook cells\n",
              "var notebookContainer = gd.closest('#notebook-container');\n",
              "if (notebookContainer) {{\n",
              "    x.observe(notebookContainer, {childList: true});\n",
              "}}\n",
              "\n",
              "// Listen for the clearing of the current output cell\n",
              "var outputEl = gd.closest('.output');\n",
              "if (outputEl) {{\n",
              "    x.observe(outputEl, {childList: true});\n",
              "}}\n",
              "\n",
              "                        })\n",
              "                };\n",
              "                \n",
              "            </script>\n",
              "        </div>\n",
              "</body>\n",
              "</html>"
            ]
          },
          "metadata": {}
        }
      ]
    },
    {
      "cell_type": "code",
      "metadata": {
        "colab": {
          "base_uri": "https://localhost:8080/"
        },
        "id": "kFYXbnapN0P7",
        "outputId": "8b0d81cf-7126-4c75-8b1a-305a230626a5"
      },
      "source": [
        "print(len(dataset))\n",
        "print(len(copy_dataset))"
      ],
      "execution_count": null,
      "outputs": [
        {
          "output_type": "stream",
          "text": [
            "701352\n",
            "701352\n"
          ],
          "name": "stdout"
        }
      ]
    },
    {
      "cell_type": "markdown",
      "metadata": {
        "id": "iEIz_H081Ey3"
      },
      "source": [
        "# 3.5 Baseline "
      ]
    },
    {
      "cell_type": "code",
      "metadata": {
        "id": "AfBwwlBU1Ey3"
      },
      "source": [
        "def set_cover(coverage):\n",
        "    total_cost = 0\n",
        "\n",
        "    # Moving pattern_members to members\n",
        "    members = [set([]) for i in range(len(patterns))]\n",
        "    for i in range(len(patterns)):\n",
        "        for member in pattern_members[i]:\n",
        "            members[i].add(member)\n",
        "    \n",
        "    selected = [0 for i in range(len(patterns))]\n",
        "    solution_patterns = []\n",
        "    global banned_patterns\n",
        "    rem = int(len(dataset) * coverage)\n",
        "    \n",
        "    while True:\n",
        "        \n",
        "        max_support = 0\n",
        "        max_pattern_index = -1\n",
        "        \n",
        "        for index, pattern in enumerate(patterns):\n",
        "            \n",
        "            marginal_support = len(members[index])\n",
        "            \n",
        "            if banned_patterns[index] == 0 and selected[index] == 0 and marginal_support > max_support:\n",
        "                max_support = marginal_support\n",
        "                max_pattern_index = index\n",
        "        \n",
        "        if max_pattern_index == -1:\n",
        "            print('Impossible!')\n",
        "            return ['Failed!']\n",
        "        \n",
        "        # selecting the next pattern\n",
        "        selected[max_pattern_index] = 1\n",
        "        total_cost += pattern_costs[max_pattern_index]\n",
        "        solution_patterns.append(max_pattern_index)\n",
        "        rem -= len(members[max_pattern_index])\n",
        "\n",
        "        if rem <= 0:\n",
        "            print('\\nTotal cost is ', total_cost, '\\n')\n",
        "            return solution_patterns, total_cost\n",
        "        \n",
        "        # updating the marginal supports\n",
        "        for entry_index in members[max_pattern_index]:\n",
        "            for pattern_index in entry_patterns[entry_index]:\n",
        "                if pattern_index != max_pattern_index:\n",
        "                    members[pattern_index].remove(entry_index)"
      ],
      "execution_count": 20,
      "outputs": []
    },
    {
      "cell_type": "code",
      "metadata": {
        "id": "Ok7AMSitQQhS"
      },
      "source": [
        "import heapq\n",
        "\n",
        "def optimized_set_cover(coverage):\n",
        "    total_cost = 0\n",
        "\n",
        "    # Moving pattern_members to members\n",
        "    members = [set([]) for i in range(len(patterns))]\n",
        "    for i in range(len(patterns)):\n",
        "        for member in pattern_members[i]:\n",
        "            members[i].add(member)\n",
        "    \n",
        "    solution_patterns = []\n",
        "    global banned_patterns\n",
        "    rem = int(len(dataset) * coverage)\n",
        "\n",
        "    remaining_patterns = []\n",
        "    heapq.heapify(remaining_patterns)\n",
        "    for index, pattern in enumerate(patterns):\n",
        "        if banned_patterns[index] == 0:\n",
        "            heapq.heappush(remaining_patterns, (-len(members[index]), index))\n",
        "    \n",
        "    \n",
        "    while True:\n",
        "        \n",
        "        _, max_pattern_index = heapq.heappop(remaining_patterns)\n",
        "        \n",
        "        # print(_, max_pattern_index)\n",
        "\n",
        "        # selecting the next pattern\n",
        "        total_cost += pattern_costs[max_pattern_index]\n",
        "        solution_patterns.append(max_pattern_index)\n",
        "        rem -= len(members[max_pattern_index])\n",
        "\n",
        "        if rem <= 0:\n",
        "            print('\\nTotal cost is ', total_cost, '\\n')\n",
        "            return solution_patterns, total_cost\n",
        "        \n",
        "        # updating the marginal supports\n",
        "        for entry_index in members[max_pattern_index]:\n",
        "            for pattern_index in entry_patterns[entry_index]:\n",
        "                if pattern_index != max_pattern_index and banned_patterns[pattern_index] == 0:\n",
        "                    remaining_patterns.pop(remaining_patterns.index((-len(members[pattern_index]), pattern_index)))\n",
        "                    members[pattern_index].remove(entry_index)\n",
        "                    heapq.heappush(remaining_patterns, (-len(members[pattern_index]), pattern_index))\n"
      ],
      "execution_count": 21,
      "outputs": []
    },
    {
      "cell_type": "code",
      "metadata": {
        "id": "E62Av09F1Ey4"
      },
      "source": [
        "def generate_baseline_MFD_tableaux(MFD_LHS_attrs, MFD_target, max_delta, coverage = 0.6):\n",
        "\n",
        "    # Adding patterns:\n",
        "    print('\\nAdding all the patterns... \\n')\n",
        "\n",
        "    global patterns, pattern_members, entry_patterns \n",
        "    patterns = []\n",
        "    pattern_members = []\n",
        "    entry_patterns = [[] for i in range(len(dataset))]\n",
        "\n",
        "    for x in chain.from_iterable(combinations(MFD_LHS_attrs, r) for r in range(0, len(MFD_LHS_attrs)+1)):\n",
        "        general_pattern = list(x)\n",
        "        print(general_pattern)\n",
        "        add_patterns(general_pattern)\n",
        "\n",
        "    print('\\nAdding patterns finished!\\n')\n",
        "\n",
        "    print('Number of patterns: ', len(patterns))\n",
        "\n",
        "    # Calculating pattern costs:\n",
        "    print('\\nCalculating pattern costs...\\n')\n",
        "    calculate_costs(MFD_LHS_attrs, MFD_target)\n",
        "    print('\\nCalculating pattern costs finished!\\n')\n",
        "\n",
        "    global banned_patterns\n",
        "    banned_patterns = [0 for i in range(len(patterns))]\n",
        "    for i in range(len(patterns)):\n",
        "        if pattern_deltas[i] > max_delta:\n",
        "            banned_patterns[i] = 1\n",
        "\n",
        "    #Running set-cover algorithm:\n",
        "    print('\\nRunning set-cover algorithm...\\n')\n",
        "    solution_patterns, total_cost = set_cover(coverage)\n",
        "    print('\\nTableaux:', '(size = ' + str(len(solution_patterns)) + ')\\n')\n",
        "\n",
        "    for pattern_index in solution_patterns:\n",
        "        support = round(len(pattern_members[pattern_index])/len(dataset)*100, 2)\n",
        "        # print(patterns[pattern_index], '\\tdelta:', pattern_deltas[pattern_index], ' support(%):', support)\n",
        "\n",
        "    return solution_patterns, total_cost"
      ],
      "execution_count": 22,
      "outputs": []
    },
    {
      "cell_type": "code",
      "metadata": {
        "id": "hImBwk2-Wzil"
      },
      "source": [
        "def generate_optimized_baseline_MFD_tableaux(MFD_LHS_attrs, MFD_target, max_delta, coverage = 0.6):\n",
        "\n",
        "    # Adding patterns:\n",
        "    print('\\nAdding all the patterns... \\n')\n",
        "\n",
        "    global patterns, pattern_members, entry_patterns \n",
        "    patterns = []\n",
        "    pattern_members = []\n",
        "    entry_patterns = [[] for i in range(len(dataset))]\n",
        "\n",
        "    for x in chain.from_iterable(combinations(MFD_LHS_attrs, r) for r in range(0, len(MFD_LHS_attrs)+1)):\n",
        "        general_pattern = list(x)\n",
        "        print(general_pattern)\n",
        "        add_patterns(general_pattern)\n",
        "\n",
        "    print('\\nAdding patterns finished!\\n')\n",
        "\n",
        "    print('Number of patterns: ', len(patterns))\n",
        "\n",
        "    # Calculating pattern costs:\n",
        "    print('\\nCalculating pattern costs...\\n')\n",
        "    calculate_costs(MFD_LHS_attrs, MFD_target)\n",
        "    print('\\nCalculating pattern costs finished!\\n')\n",
        "\n",
        "    global banned_patterns\n",
        "    banned_patterns = [0 for i in range(len(patterns))]\n",
        "    for i in range(len(patterns)):\n",
        "        if pattern_deltas[i] > max_delta:\n",
        "            banned_patterns[i] = 1\n",
        "\n",
        "    #Running set-cover algorithm:\n",
        "    print('\\nRunning set-cover algorithm...\\n')\n",
        "    solution_patterns, total_cost = optimized_set_cover(coverage)\n",
        "    print('\\nTableaux:', '(size = ' + str(len(solution_patterns)) + ')\\n')\n",
        "\n",
        "    for pattern_index in solution_patterns:\n",
        "        support = round(len(pattern_members[pattern_index])/len(dataset)*100, 2)\n",
        "        # print(patterns[pattern_index], '\\tdelta:', pattern_deltas[pattern_index], ' support(%):', support)\n",
        "\n",
        "    return solution_patterns, total_cost"
      ],
      "execution_count": 23,
      "outputs": []
    },
    {
      "cell_type": "code",
      "metadata": {
        "id": "vQBpXwrkeII6"
      },
      "source": [
        "dataset = filtered_dataset"
      ],
      "execution_count": null,
      "outputs": []
    },
    {
      "cell_type": "code",
      "metadata": {
        "colab": {
          "base_uri": "https://localhost:8080/"
        },
        "id": "6hvYpp2n1Ey4",
        "outputId": "83816350-814f-4164-e009-19f459af1a36"
      },
      "source": [
        "# Baseline MFD tableaux: \n",
        "baseline_patterns, baseline_cost = generate_baseline_MFD_tableaux(\n",
        "    MFD_LHS_attrs = ['OP_CARRIER_AIRLINE_ID', 'OP_CARRIER_FL_NUM', 'ORIGIN', 'DEST'],\n",
        "    MFD_target = 'DEP_DELAY', \n",
        "    max_delta = 500,\n",
        "    coverage = 0.6)\n",
        "\n",
        "# baseline_patterns2, baseline_cost2 = generate_optimized_baseline_MFD_tableaux(\n",
        "#     MFD_LHS_attrs = ['OP_CARRIER_AIRLINE_ID', 'OP_CARRIER_FL_NUM', 'ORIGIN', 'DEST'],\n",
        "#     MFD_target = 'DEP_DELAY', \n",
        "#     max_delta = 100,\n",
        "#     coverage = 0.6)"
      ],
      "execution_count": null,
      "outputs": [
        {
          "output_type": "stream",
          "text": [
            "\n",
            "Adding all the patterns... \n",
            "\n",
            "[]\n",
            "['OP_CARRIER_AIRLINE_ID']\n",
            "['OP_CARRIER_FL_NUM']\n",
            "['ORIGIN']\n",
            "['DEST']\n",
            "['OP_CARRIER_AIRLINE_ID', 'OP_CARRIER_FL_NUM']\n",
            "['OP_CARRIER_AIRLINE_ID', 'ORIGIN']\n",
            "['OP_CARRIER_AIRLINE_ID', 'DEST']\n",
            "['OP_CARRIER_FL_NUM', 'ORIGIN']\n",
            "['OP_CARRIER_FL_NUM', 'DEST']\n",
            "['ORIGIN', 'DEST']\n",
            "['OP_CARRIER_AIRLINE_ID', 'OP_CARRIER_FL_NUM', 'ORIGIN']\n",
            "['OP_CARRIER_AIRLINE_ID', 'OP_CARRIER_FL_NUM', 'DEST']\n",
            "['OP_CARRIER_AIRLINE_ID', 'ORIGIN', 'DEST']\n",
            "['OP_CARRIER_FL_NUM', 'ORIGIN', 'DEST']\n",
            "['OP_CARRIER_AIRLINE_ID', 'OP_CARRIER_FL_NUM', 'ORIGIN', 'DEST']\n",
            "\n",
            "Adding patterns finished!\n",
            "\n",
            "Number of patterns:  370605\n",
            "\n",
            "Calculating pattern costs...\n",
            "\n",
            "\n",
            "Calculating pattern costs finished!\n",
            "\n",
            "\n",
            "Running set-cover algorithm...\n",
            "\n",
            "\n",
            "Total cost is  19620595718.05318 \n",
            "\n",
            "\n",
            "Tableaux: (size = 25)\n",
            "\n"
          ],
          "name": "stdout"
        }
      ]
    },
    {
      "cell_type": "code",
      "metadata": {
        "id": "OK-kvijs1Ey7"
      },
      "source": [
        "%%capture\n",
        "\n",
        "baseline_costs = []\n",
        "baseline_tableau_lens = []\n",
        "actual_costs = []\n",
        "actual_tableau_lens = []\n",
        "deltas = []\n",
        "\n",
        "for i in tqdm(range(60, 210, 20)):\n",
        "    baseline_patterns, baseline_cost = generate_baseline_MFD_tableaux(\n",
        "        MFD_LHS_attrs = ['OP_CARRIER_AIRLINE_ID', 'OP_CARRIER_FL_NUM', 'ORIGIN', 'DEST'],\n",
        "        MFD_target = 'DEP_DELAY', \n",
        "        max_delta = i,\n",
        "        coverage = 0.6)\n",
        "    \n",
        "    actual_patterns, actual_cost = generate_MFD_tableaux(\n",
        "        MFD_LHS_attrs = ['OP_CARRIER_AIRLINE_ID', 'OP_CARRIER_FL_NUM', 'ORIGIN', 'DEST'],\n",
        "        MFD_target = 'DEP_DELAY',  \n",
        "        k = len(baseline_patterns), coverage = 0.6,\n",
        "        fail_tableaux = False)\n",
        "    \n",
        "    baseline_costs.append(baseline_cost)\n",
        "    baseline_tableau_lens.append(len(baseline_patterns))\n",
        "    actual_costs.append(actual_cost)\n",
        "    actual_tableau_lens.append(len(actual_patterns))\n",
        "    deltas.append(i)\n",
        "    "
      ],
      "execution_count": 24,
      "outputs": []
    },
    {
      "cell_type": "code",
      "metadata": {
        "colab": {
          "base_uri": "https://localhost:8080/",
          "height": 682
        },
        "id": "u3_N3Wc61Ey7",
        "outputId": "ba6c084b-adfb-48a3-9a01-01a9effbfd5f"
      },
      "source": [
        "import plotly\n",
        "import pandas as pd\n",
        "import numpy as np\n",
        "import seaborn as sns\n",
        "import plotly.express as px\n",
        "import matplotlib\n",
        "import matplotlib.pyplot as plt\n",
        "import plotly.graph_objects as go\n",
        "\n",
        "for i in range(len(deltas)):\n",
        "    print(deltas[i], 'k:', baseline_tableau_lens[i], ' costs: ', baseline_costs[i], actual_costs[i])\n",
        "\n",
        "  \n",
        "sns.reset_defaults()\n",
        "sns.set(\n",
        "    rc={'figure.figsize':(7,5)}, \n",
        "    style=\"white\" # nicer layout\n",
        ")\n",
        "\n",
        "tick_texts = []\n",
        "ks = []\n",
        "dels = []\n",
        "for i in range(len(deltas)):\n",
        "    # tick_texts.append(chr(948) + ': ' + str(deltas[i]) + '\\n k: ' + str(baseline_tableau_lens[i]))\n",
        "    ks.append('k=' + str(baseline_tableau_lens[i]))\n",
        "    dels.append('d=' + str(deltas[i])) \n",
        "\n",
        "fig = go.Figure()\n",
        "\n",
        "fig.add_trace(go.Scatter(x=deltas, y=baseline_costs,\n",
        "                    textposition=\"top center\",\n",
        "                    text=dels,\n",
        "                    mode='lines+markers+text',\n",
        "                    name='Baseline'))\n",
        "\n",
        "fig.add_trace(go.Scatter(x=deltas, y=actual_costs, \n",
        "                    text=ks,\n",
        "                    textposition=\"bottom center\",\n",
        "                    mode='lines+markers+text',\n",
        "                    name='Our solution'))\n",
        "\n",
        "\n",
        "fig.update_layout(\n",
        "    xaxis = dict(\n",
        "        tickmode = 'array',\n",
        "        tickvals = deltas,\n",
        "    ), \n",
        "    yaxis = dict(\n",
        "        # tickmode = 'linear',\n",
        "        # tick0 = 0,\n",
        "        # dtick = 1000\n",
        "    )\n",
        ")\n",
        "\n",
        "fig.update_yaxes(title=\"<b>Tableau Cost<b>\")\n",
        "fig.update_xaxes(title='<b>d in the baseline approach<b>')\n",
        "fig.update_layout(yaxis_tickformat = '1')\n",
        "fig.for_each_xaxis(lambda axis: axis.title.update(font=dict(size=20)))\n",
        "fig.for_each_yaxis(lambda axis: axis.title.update(font=dict(size=20)))\n",
        "\n",
        "fig.update_layout(\n",
        "    font=dict(\n",
        "        # family=\"Courier New, monospace\",\n",
        "        size=18,\n",
        "        # color=\"RebeccaPurple\"\n",
        "    )\n",
        ")\n",
        "\n",
        "fig.show()"
      ],
      "execution_count": 26,
      "outputs": [
        {
          "output_type": "stream",
          "name": "stdout",
          "text": [
            "60 k: 828  costs:  4519.365147604727 3646.3128604939416\n",
            "80 k: 581  costs:  6596.076105000855 3604.1692807354307\n",
            "100 k: 312  costs:  9383.853052319297 4716.673125319532\n",
            "120 k: 136  costs:  10859.296970345356 7527.200544351819\n",
            "140 k: 55  costs:  14345.04273257141 10400.744387213703\n",
            "160 k: 35  costs:  22397.49066162297 15616.388520744866\n",
            "180 k: 28  costs:  34798.30371496649 28932.405863968805\n",
            "200 k: 17  costs:  50180.114469183165 40929.28129096141\n"
          ]
        },
        {
          "output_type": "display_data",
          "data": {
            "text/html": [
              "<html>\n",
              "<head><meta charset=\"utf-8\" /></head>\n",
              "<body>\n",
              "    <div>\n",
              "            <script src=\"https://cdnjs.cloudflare.com/ajax/libs/mathjax/2.7.5/MathJax.js?config=TeX-AMS-MML_SVG\"></script><script type=\"text/javascript\">if (window.MathJax) {MathJax.Hub.Config({SVG: {font: \"STIX-Web\"}});}</script>\n",
              "                <script type=\"text/javascript\">window.PlotlyConfig = {MathJaxConfig: 'local'};</script>\n",
              "        <script src=\"https://cdn.plot.ly/plotly-latest.min.js\"></script>    \n",
              "            <div id=\"f50f7898-cbc7-4769-b31d-182ba4c29adc\" class=\"plotly-graph-div\" style=\"height:525px; width:100%;\"></div>\n",
              "            <script type=\"text/javascript\">\n",
              "                \n",
              "                    window.PLOTLYENV=window.PLOTLYENV || {};\n",
              "                    \n",
              "                if (document.getElementById(\"f50f7898-cbc7-4769-b31d-182ba4c29adc\")) {\n",
              "                    Plotly.newPlot(\n",
              "                        'f50f7898-cbc7-4769-b31d-182ba4c29adc',\n",
              "                        [{\"mode\": \"lines+markers+text\", \"name\": \"Baseline\", \"text\": [\"d=60\", \"d=80\", \"d=100\", \"d=120\", \"d=140\", \"d=160\", \"d=180\", \"d=200\"], \"textposition\": \"top center\", \"type\": \"scatter\", \"x\": [60, 80, 100, 120, 140, 160, 180, 200], \"y\": [4519.365147604727, 6596.076105000855, 9383.853052319297, 10859.296970345356, 14345.04273257141, 22397.49066162297, 34798.30371496649, 50180.114469183165]}, {\"mode\": \"lines+markers+text\", \"name\": \"Our solution\", \"text\": [\"k=828\", \"k=581\", \"k=312\", \"k=136\", \"k=55\", \"k=35\", \"k=28\", \"k=17\"], \"textposition\": \"bottom center\", \"type\": \"scatter\", \"x\": [60, 80, 100, 120, 140, 160, 180, 200], \"y\": [3646.3128604939416, 3604.1692807354307, 4716.673125319532, 7527.200544351819, 10400.744387213703, 15616.388520744866, 28932.405863968805, 40929.28129096141]}],\n",
              "                        {\"font\": {\"size\": 18}, \"template\": {\"data\": {\"bar\": [{\"error_x\": {\"color\": \"#2a3f5f\"}, \"error_y\": {\"color\": \"#2a3f5f\"}, \"marker\": {\"line\": {\"color\": \"#E5ECF6\", \"width\": 0.5}}, \"type\": \"bar\"}], \"barpolar\": [{\"marker\": {\"line\": {\"color\": \"#E5ECF6\", \"width\": 0.5}}, \"type\": \"barpolar\"}], \"carpet\": [{\"aaxis\": {\"endlinecolor\": \"#2a3f5f\", \"gridcolor\": \"white\", \"linecolor\": \"white\", \"minorgridcolor\": \"white\", \"startlinecolor\": \"#2a3f5f\"}, \"baxis\": {\"endlinecolor\": \"#2a3f5f\", \"gridcolor\": \"white\", \"linecolor\": \"white\", \"minorgridcolor\": \"white\", \"startlinecolor\": \"#2a3f5f\"}, \"type\": \"carpet\"}], \"choropleth\": [{\"colorbar\": {\"outlinewidth\": 0, \"ticks\": \"\"}, \"type\": \"choropleth\"}], \"contour\": [{\"colorbar\": {\"outlinewidth\": 0, \"ticks\": \"\"}, \"colorscale\": [[0.0, \"#0d0887\"], [0.1111111111111111, \"#46039f\"], [0.2222222222222222, \"#7201a8\"], [0.3333333333333333, \"#9c179e\"], [0.4444444444444444, \"#bd3786\"], [0.5555555555555556, \"#d8576b\"], [0.6666666666666666, \"#ed7953\"], [0.7777777777777778, \"#fb9f3a\"], [0.8888888888888888, \"#fdca26\"], [1.0, \"#f0f921\"]], \"type\": \"contour\"}], \"contourcarpet\": [{\"colorbar\": {\"outlinewidth\": 0, \"ticks\": \"\"}, \"type\": \"contourcarpet\"}], \"heatmap\": [{\"colorbar\": {\"outlinewidth\": 0, \"ticks\": \"\"}, \"colorscale\": [[0.0, \"#0d0887\"], [0.1111111111111111, \"#46039f\"], [0.2222222222222222, \"#7201a8\"], [0.3333333333333333, \"#9c179e\"], [0.4444444444444444, \"#bd3786\"], [0.5555555555555556, \"#d8576b\"], [0.6666666666666666, \"#ed7953\"], [0.7777777777777778, \"#fb9f3a\"], [0.8888888888888888, \"#fdca26\"], [1.0, \"#f0f921\"]], \"type\": \"heatmap\"}], \"heatmapgl\": [{\"colorbar\": {\"outlinewidth\": 0, \"ticks\": \"\"}, \"colorscale\": [[0.0, \"#0d0887\"], [0.1111111111111111, \"#46039f\"], [0.2222222222222222, \"#7201a8\"], [0.3333333333333333, \"#9c179e\"], [0.4444444444444444, \"#bd3786\"], [0.5555555555555556, \"#d8576b\"], [0.6666666666666666, \"#ed7953\"], [0.7777777777777778, \"#fb9f3a\"], [0.8888888888888888, \"#fdca26\"], [1.0, \"#f0f921\"]], \"type\": \"heatmapgl\"}], \"histogram\": [{\"marker\": {\"colorbar\": {\"outlinewidth\": 0, \"ticks\": \"\"}}, \"type\": \"histogram\"}], \"histogram2d\": [{\"colorbar\": {\"outlinewidth\": 0, \"ticks\": \"\"}, \"colorscale\": [[0.0, \"#0d0887\"], [0.1111111111111111, \"#46039f\"], [0.2222222222222222, \"#7201a8\"], [0.3333333333333333, \"#9c179e\"], [0.4444444444444444, \"#bd3786\"], [0.5555555555555556, \"#d8576b\"], [0.6666666666666666, \"#ed7953\"], [0.7777777777777778, \"#fb9f3a\"], [0.8888888888888888, \"#fdca26\"], [1.0, \"#f0f921\"]], \"type\": \"histogram2d\"}], \"histogram2dcontour\": [{\"colorbar\": {\"outlinewidth\": 0, \"ticks\": \"\"}, \"colorscale\": [[0.0, \"#0d0887\"], [0.1111111111111111, \"#46039f\"], [0.2222222222222222, \"#7201a8\"], [0.3333333333333333, \"#9c179e\"], [0.4444444444444444, \"#bd3786\"], [0.5555555555555556, \"#d8576b\"], [0.6666666666666666, \"#ed7953\"], [0.7777777777777778, \"#fb9f3a\"], [0.8888888888888888, \"#fdca26\"], [1.0, \"#f0f921\"]], \"type\": \"histogram2dcontour\"}], \"mesh3d\": [{\"colorbar\": {\"outlinewidth\": 0, \"ticks\": \"\"}, \"type\": \"mesh3d\"}], \"parcoords\": [{\"line\": {\"colorbar\": {\"outlinewidth\": 0, \"ticks\": \"\"}}, \"type\": \"parcoords\"}], \"pie\": [{\"automargin\": true, \"type\": \"pie\"}], \"scatter\": [{\"marker\": {\"colorbar\": {\"outlinewidth\": 0, \"ticks\": \"\"}}, \"type\": \"scatter\"}], \"scatter3d\": [{\"line\": {\"colorbar\": {\"outlinewidth\": 0, \"ticks\": \"\"}}, \"marker\": {\"colorbar\": {\"outlinewidth\": 0, \"ticks\": \"\"}}, \"type\": \"scatter3d\"}], \"scattercarpet\": [{\"marker\": {\"colorbar\": {\"outlinewidth\": 0, \"ticks\": \"\"}}, \"type\": \"scattercarpet\"}], \"scattergeo\": [{\"marker\": {\"colorbar\": {\"outlinewidth\": 0, \"ticks\": \"\"}}, \"type\": \"scattergeo\"}], \"scattergl\": [{\"marker\": {\"colorbar\": {\"outlinewidth\": 0, \"ticks\": \"\"}}, \"type\": \"scattergl\"}], \"scattermapbox\": [{\"marker\": {\"colorbar\": {\"outlinewidth\": 0, \"ticks\": \"\"}}, \"type\": \"scattermapbox\"}], \"scatterpolar\": [{\"marker\": {\"colorbar\": {\"outlinewidth\": 0, \"ticks\": \"\"}}, \"type\": \"scatterpolar\"}], \"scatterpolargl\": [{\"marker\": {\"colorbar\": {\"outlinewidth\": 0, \"ticks\": \"\"}}, \"type\": \"scatterpolargl\"}], \"scatterternary\": [{\"marker\": {\"colorbar\": {\"outlinewidth\": 0, \"ticks\": \"\"}}, \"type\": \"scatterternary\"}], \"surface\": [{\"colorbar\": {\"outlinewidth\": 0, \"ticks\": \"\"}, \"colorscale\": [[0.0, \"#0d0887\"], [0.1111111111111111, \"#46039f\"], [0.2222222222222222, \"#7201a8\"], [0.3333333333333333, \"#9c179e\"], [0.4444444444444444, \"#bd3786\"], [0.5555555555555556, \"#d8576b\"], [0.6666666666666666, \"#ed7953\"], [0.7777777777777778, \"#fb9f3a\"], [0.8888888888888888, \"#fdca26\"], [1.0, \"#f0f921\"]], \"type\": \"surface\"}], \"table\": [{\"cells\": {\"fill\": {\"color\": \"#EBF0F8\"}, \"line\": {\"color\": \"white\"}}, \"header\": {\"fill\": {\"color\": \"#C8D4E3\"}, \"line\": {\"color\": \"white\"}}, \"type\": \"table\"}]}, \"layout\": {\"annotationdefaults\": {\"arrowcolor\": \"#2a3f5f\", \"arrowhead\": 0, \"arrowwidth\": 1}, \"coloraxis\": {\"colorbar\": {\"outlinewidth\": 0, \"ticks\": \"\"}}, \"colorscale\": {\"diverging\": [[0, \"#8e0152\"], [0.1, \"#c51b7d\"], [0.2, \"#de77ae\"], [0.3, \"#f1b6da\"], [0.4, \"#fde0ef\"], [0.5, \"#f7f7f7\"], [0.6, \"#e6f5d0\"], [0.7, \"#b8e186\"], [0.8, \"#7fbc41\"], [0.9, \"#4d9221\"], [1, \"#276419\"]], \"sequential\": [[0.0, \"#0d0887\"], [0.1111111111111111, \"#46039f\"], [0.2222222222222222, \"#7201a8\"], [0.3333333333333333, \"#9c179e\"], [0.4444444444444444, \"#bd3786\"], [0.5555555555555556, \"#d8576b\"], [0.6666666666666666, \"#ed7953\"], [0.7777777777777778, \"#fb9f3a\"], [0.8888888888888888, \"#fdca26\"], [1.0, \"#f0f921\"]], \"sequentialminus\": [[0.0, \"#0d0887\"], [0.1111111111111111, \"#46039f\"], [0.2222222222222222, \"#7201a8\"], [0.3333333333333333, \"#9c179e\"], [0.4444444444444444, \"#bd3786\"], [0.5555555555555556, \"#d8576b\"], [0.6666666666666666, \"#ed7953\"], [0.7777777777777778, \"#fb9f3a\"], [0.8888888888888888, \"#fdca26\"], [1.0, \"#f0f921\"]]}, \"colorway\": [\"#636efa\", \"#EF553B\", \"#00cc96\", \"#ab63fa\", \"#FFA15A\", \"#19d3f3\", \"#FF6692\", \"#B6E880\", \"#FF97FF\", \"#FECB52\"], \"font\": {\"color\": \"#2a3f5f\"}, \"geo\": {\"bgcolor\": \"white\", \"lakecolor\": \"white\", \"landcolor\": \"#E5ECF6\", \"showlakes\": true, \"showland\": true, \"subunitcolor\": \"white\"}, \"hoverlabel\": {\"align\": \"left\"}, \"hovermode\": \"closest\", \"mapbox\": {\"style\": \"light\"}, \"paper_bgcolor\": \"white\", \"plot_bgcolor\": \"#E5ECF6\", \"polar\": {\"angularaxis\": {\"gridcolor\": \"white\", \"linecolor\": \"white\", \"ticks\": \"\"}, \"bgcolor\": \"#E5ECF6\", \"radialaxis\": {\"gridcolor\": \"white\", \"linecolor\": \"white\", \"ticks\": \"\"}}, \"scene\": {\"xaxis\": {\"backgroundcolor\": \"#E5ECF6\", \"gridcolor\": \"white\", \"gridwidth\": 2, \"linecolor\": \"white\", \"showbackground\": true, \"ticks\": \"\", \"zerolinecolor\": \"white\"}, \"yaxis\": {\"backgroundcolor\": \"#E5ECF6\", \"gridcolor\": \"white\", \"gridwidth\": 2, \"linecolor\": \"white\", \"showbackground\": true, \"ticks\": \"\", \"zerolinecolor\": \"white\"}, \"zaxis\": {\"backgroundcolor\": \"#E5ECF6\", \"gridcolor\": \"white\", \"gridwidth\": 2, \"linecolor\": \"white\", \"showbackground\": true, \"ticks\": \"\", \"zerolinecolor\": \"white\"}}, \"shapedefaults\": {\"line\": {\"color\": \"#2a3f5f\"}}, \"ternary\": {\"aaxis\": {\"gridcolor\": \"white\", \"linecolor\": \"white\", \"ticks\": \"\"}, \"baxis\": {\"gridcolor\": \"white\", \"linecolor\": \"white\", \"ticks\": \"\"}, \"bgcolor\": \"#E5ECF6\", \"caxis\": {\"gridcolor\": \"white\", \"linecolor\": \"white\", \"ticks\": \"\"}}, \"title\": {\"x\": 0.05}, \"xaxis\": {\"automargin\": true, \"gridcolor\": \"white\", \"linecolor\": \"white\", \"ticks\": \"\", \"title\": {\"standoff\": 15}, \"zerolinecolor\": \"white\", \"zerolinewidth\": 2}, \"yaxis\": {\"automargin\": true, \"gridcolor\": \"white\", \"linecolor\": \"white\", \"ticks\": \"\", \"title\": {\"standoff\": 15}, \"zerolinecolor\": \"white\", \"zerolinewidth\": 2}}}, \"xaxis\": {\"tickmode\": \"array\", \"tickvals\": [60, 80, 100, 120, 140, 160, 180, 200], \"title\": {\"font\": {\"size\": 20}, \"text\": \"<b>d in the baseline approach<b>\"}}, \"yaxis\": {\"tickformat\": \"1\", \"title\": {\"font\": {\"size\": 20}, \"text\": \"<b>Tableau Cost<b>\"}}},\n",
              "                        {\"responsive\": true}\n",
              "                    ).then(function(){\n",
              "                            \n",
              "var gd = document.getElementById('f50f7898-cbc7-4769-b31d-182ba4c29adc');\n",
              "var x = new MutationObserver(function (mutations, observer) {{\n",
              "        var display = window.getComputedStyle(gd).display;\n",
              "        if (!display || display === 'none') {{\n",
              "            console.log([gd, 'removed!']);\n",
              "            Plotly.purge(gd);\n",
              "            observer.disconnect();\n",
              "        }}\n",
              "}});\n",
              "\n",
              "// Listen for the removal of the full notebook cells\n",
              "var notebookContainer = gd.closest('#notebook-container');\n",
              "if (notebookContainer) {{\n",
              "    x.observe(notebookContainer, {childList: true});\n",
              "}}\n",
              "\n",
              "// Listen for the clearing of the current output cell\n",
              "var outputEl = gd.closest('.output');\n",
              "if (outputEl) {{\n",
              "    x.observe(outputEl, {childList: true});\n",
              "}}\n",
              "\n",
              "                        })\n",
              "                };\n",
              "                \n",
              "            </script>\n",
              "        </div>\n",
              "</body>\n",
              "</html>"
            ]
          },
          "metadata": {}
        }
      ]
    },
    {
      "cell_type": "code",
      "metadata": {
        "id": "hfIYtrPwDem2"
      },
      "source": [
        "%%capture\n",
        "\n",
        "import timeit\n",
        "\n",
        "dataset_sizes = []\n",
        "running_times_CWSC = []\n",
        "running_times_SC = []\n",
        "\n",
        "copy_dataset = dataset[:]\n",
        "\n",
        "for i in range(100, 701, 100):\n",
        "    dataset = copy_dataset[0:i*1000]\n",
        "\n",
        "    t1 = timeit.default_timer()\n",
        "    a, b = generate_MFD_tableaux(\n",
        "        MFD_LHS_attrs = ['OP_CARRIER_AIRLINE_ID', 'OP_CARRIER_FL_NUM', 'ORIGIN', 'DEST'],\n",
        "        MFD_target = 'DEP_DELAY', \n",
        "        k = 100, coverage = 0.6, confidence = 0.9,\n",
        "        fail_tableaux = False)\n",
        "    t2 = timeit.default_timer()\n",
        "\n",
        "    t3 = timeit.default_timer()\n",
        "    a, b = generate_baseline_MFD_tableaux(\n",
        "        MFD_LHS_attrs = ['OP_CARRIER_AIRLINE_ID', 'OP_CARRIER_FL_NUM', 'ORIGIN', 'DEST'],\n",
        "        MFD_target = 'DEP_DELAY', \n",
        "        max_delta = 130,\n",
        "        coverage = 0.6)\n",
        "    t4 = timeit.default_timer()\n",
        "\n",
        "\n",
        "    dataset_sizes.append(i)\n",
        "    running_times_CWSC.append(t2-t1)\n",
        "    running_times_SC.append(t4-t3)\n",
        "\n",
        "dataset = copy_dataset[:]\n",
        "print(len(dataset))"
      ],
      "execution_count": 44,
      "outputs": []
    },
    {
      "cell_type": "code",
      "metadata": {
        "colab": {
          "base_uri": "https://localhost:8080/",
          "height": 542
        },
        "id": "2inxlKz4JoJ8",
        "outputId": "cbf99bbe-6551-4026-9f7a-21a42d016283"
      },
      "source": [
        "import plotly\n",
        "import pandas as pd\n",
        "import numpy as np\n",
        "import seaborn as sns\n",
        "import plotly.express as px\n",
        "import matplotlib\n",
        "import matplotlib.pyplot as plt\n",
        "import plotly.graph_objects as go\n",
        "\n",
        "fig = go.Figure()\n",
        "\n",
        "fig.add_trace(go.Scatter(x=dataset_sizes, y=running_times_CWSC,\n",
        "                    mode='lines+markers', name='CWSC'))\n",
        "\n",
        "# fig.add_trace(go.Scatter(x=dataset_sizes, y=running_times_SC,\n",
        "#                     mode='lines+markers', name='SC'))\n",
        "\n",
        "fig.update_layout(\n",
        "    xaxis = dict(\n",
        "        # tickmode = 'array',\n",
        "        # tickvals = dataset_sizes,\n",
        "        tick0 = 100,\n",
        "        dtick = 200\n",
        "    ), \n",
        "    yaxis = dict(\n",
        "        # tickmode = 'linear',\n",
        "        # tick0 = 0,\n",
        "        dtick = 20\n",
        "    )\n",
        ")\n",
        "\n",
        "fig.update_yaxes(title=\"<b>Running time (Sec)<b>\")\n",
        "fig.update_xaxes(title='<b>Database size (thousands)<b>')\n",
        "fig.update_layout(yaxis_tickformat = '1')\n",
        "fig.update_layout(xaxis_tickformat = '1')\n",
        "fig.for_each_xaxis(lambda axis: axis.title.update(font=dict(size=22)))\n",
        "fig.for_each_yaxis(lambda axis: axis.title.update(font=dict(size=22)))\n",
        "\n",
        "fig.update_layout(\n",
        "    font=dict(\n",
        "        # family=\"Courier New, monospace\",\n",
        "        size=22,\n",
        "        # color=\"RebeccaPurple\"\n",
        "    )\n",
        ")\n",
        "\n",
        "fig.show()"
      ],
      "execution_count": 51,
      "outputs": [
        {
          "output_type": "display_data",
          "data": {
            "text/html": [
              "<html>\n",
              "<head><meta charset=\"utf-8\" /></head>\n",
              "<body>\n",
              "    <div>\n",
              "            <script src=\"https://cdnjs.cloudflare.com/ajax/libs/mathjax/2.7.5/MathJax.js?config=TeX-AMS-MML_SVG\"></script><script type=\"text/javascript\">if (window.MathJax) {MathJax.Hub.Config({SVG: {font: \"STIX-Web\"}});}</script>\n",
              "                <script type=\"text/javascript\">window.PlotlyConfig = {MathJaxConfig: 'local'};</script>\n",
              "        <script src=\"https://cdn.plot.ly/plotly-latest.min.js\"></script>    \n",
              "            <div id=\"8ca8bfb5-20f8-49ca-a2dc-0a5d23fd15e8\" class=\"plotly-graph-div\" style=\"height:525px; width:100%;\"></div>\n",
              "            <script type=\"text/javascript\">\n",
              "                \n",
              "                    window.PLOTLYENV=window.PLOTLYENV || {};\n",
              "                    \n",
              "                if (document.getElementById(\"8ca8bfb5-20f8-49ca-a2dc-0a5d23fd15e8\")) {\n",
              "                    Plotly.newPlot(\n",
              "                        '8ca8bfb5-20f8-49ca-a2dc-0a5d23fd15e8',\n",
              "                        [{\"mode\": \"lines+markers\", \"name\": \"CWSC\", \"type\": \"scatter\", \"x\": [100, 200, 300, 400, 500, 600, 700], \"y\": [25.72076590999859, 37.7578329579992, 52.05841715199858, 62.47503947000041, 75.43050409300122, 85.9800205219999, 96.17550843200115]}],\n",
              "                        {\"font\": {\"size\": 22}, \"template\": {\"data\": {\"bar\": [{\"error_x\": {\"color\": \"#2a3f5f\"}, \"error_y\": {\"color\": \"#2a3f5f\"}, \"marker\": {\"line\": {\"color\": \"#E5ECF6\", \"width\": 0.5}}, \"type\": \"bar\"}], \"barpolar\": [{\"marker\": {\"line\": {\"color\": \"#E5ECF6\", \"width\": 0.5}}, \"type\": \"barpolar\"}], \"carpet\": [{\"aaxis\": {\"endlinecolor\": \"#2a3f5f\", \"gridcolor\": \"white\", \"linecolor\": \"white\", \"minorgridcolor\": \"white\", \"startlinecolor\": \"#2a3f5f\"}, \"baxis\": {\"endlinecolor\": \"#2a3f5f\", \"gridcolor\": \"white\", \"linecolor\": \"white\", \"minorgridcolor\": \"white\", \"startlinecolor\": \"#2a3f5f\"}, \"type\": \"carpet\"}], \"choropleth\": [{\"colorbar\": {\"outlinewidth\": 0, \"ticks\": \"\"}, \"type\": \"choropleth\"}], \"contour\": [{\"colorbar\": {\"outlinewidth\": 0, \"ticks\": \"\"}, \"colorscale\": [[0.0, \"#0d0887\"], [0.1111111111111111, \"#46039f\"], [0.2222222222222222, \"#7201a8\"], [0.3333333333333333, \"#9c179e\"], [0.4444444444444444, \"#bd3786\"], [0.5555555555555556, \"#d8576b\"], [0.6666666666666666, \"#ed7953\"], [0.7777777777777778, \"#fb9f3a\"], [0.8888888888888888, \"#fdca26\"], [1.0, \"#f0f921\"]], \"type\": \"contour\"}], \"contourcarpet\": [{\"colorbar\": {\"outlinewidth\": 0, \"ticks\": \"\"}, \"type\": \"contourcarpet\"}], \"heatmap\": [{\"colorbar\": {\"outlinewidth\": 0, \"ticks\": \"\"}, \"colorscale\": [[0.0, \"#0d0887\"], [0.1111111111111111, \"#46039f\"], [0.2222222222222222, \"#7201a8\"], [0.3333333333333333, \"#9c179e\"], [0.4444444444444444, \"#bd3786\"], [0.5555555555555556, \"#d8576b\"], [0.6666666666666666, \"#ed7953\"], [0.7777777777777778, \"#fb9f3a\"], [0.8888888888888888, \"#fdca26\"], [1.0, \"#f0f921\"]], \"type\": \"heatmap\"}], \"heatmapgl\": [{\"colorbar\": {\"outlinewidth\": 0, \"ticks\": \"\"}, \"colorscale\": [[0.0, \"#0d0887\"], [0.1111111111111111, \"#46039f\"], [0.2222222222222222, \"#7201a8\"], [0.3333333333333333, \"#9c179e\"], [0.4444444444444444, \"#bd3786\"], [0.5555555555555556, \"#d8576b\"], [0.6666666666666666, \"#ed7953\"], [0.7777777777777778, \"#fb9f3a\"], [0.8888888888888888, \"#fdca26\"], [1.0, \"#f0f921\"]], \"type\": \"heatmapgl\"}], \"histogram\": [{\"marker\": {\"colorbar\": {\"outlinewidth\": 0, \"ticks\": \"\"}}, \"type\": \"histogram\"}], \"histogram2d\": [{\"colorbar\": {\"outlinewidth\": 0, \"ticks\": \"\"}, \"colorscale\": [[0.0, \"#0d0887\"], [0.1111111111111111, \"#46039f\"], [0.2222222222222222, \"#7201a8\"], [0.3333333333333333, \"#9c179e\"], [0.4444444444444444, \"#bd3786\"], [0.5555555555555556, \"#d8576b\"], [0.6666666666666666, \"#ed7953\"], [0.7777777777777778, \"#fb9f3a\"], [0.8888888888888888, \"#fdca26\"], [1.0, \"#f0f921\"]], \"type\": \"histogram2d\"}], \"histogram2dcontour\": [{\"colorbar\": {\"outlinewidth\": 0, \"ticks\": \"\"}, \"colorscale\": [[0.0, \"#0d0887\"], [0.1111111111111111, \"#46039f\"], [0.2222222222222222, \"#7201a8\"], [0.3333333333333333, \"#9c179e\"], [0.4444444444444444, \"#bd3786\"], [0.5555555555555556, \"#d8576b\"], [0.6666666666666666, \"#ed7953\"], [0.7777777777777778, \"#fb9f3a\"], [0.8888888888888888, \"#fdca26\"], [1.0, \"#f0f921\"]], \"type\": \"histogram2dcontour\"}], \"mesh3d\": [{\"colorbar\": {\"outlinewidth\": 0, \"ticks\": \"\"}, \"type\": \"mesh3d\"}], \"parcoords\": [{\"line\": {\"colorbar\": {\"outlinewidth\": 0, \"ticks\": \"\"}}, \"type\": \"parcoords\"}], \"pie\": [{\"automargin\": true, \"type\": \"pie\"}], \"scatter\": [{\"marker\": {\"colorbar\": {\"outlinewidth\": 0, \"ticks\": \"\"}}, \"type\": \"scatter\"}], \"scatter3d\": [{\"line\": {\"colorbar\": {\"outlinewidth\": 0, \"ticks\": \"\"}}, \"marker\": {\"colorbar\": {\"outlinewidth\": 0, \"ticks\": \"\"}}, \"type\": \"scatter3d\"}], \"scattercarpet\": [{\"marker\": {\"colorbar\": {\"outlinewidth\": 0, \"ticks\": \"\"}}, \"type\": \"scattercarpet\"}], \"scattergeo\": [{\"marker\": {\"colorbar\": {\"outlinewidth\": 0, \"ticks\": \"\"}}, \"type\": \"scattergeo\"}], \"scattergl\": [{\"marker\": {\"colorbar\": {\"outlinewidth\": 0, \"ticks\": \"\"}}, \"type\": \"scattergl\"}], \"scattermapbox\": [{\"marker\": {\"colorbar\": {\"outlinewidth\": 0, \"ticks\": \"\"}}, \"type\": \"scattermapbox\"}], \"scatterpolar\": [{\"marker\": {\"colorbar\": {\"outlinewidth\": 0, \"ticks\": \"\"}}, \"type\": \"scatterpolar\"}], \"scatterpolargl\": [{\"marker\": {\"colorbar\": {\"outlinewidth\": 0, \"ticks\": \"\"}}, \"type\": \"scatterpolargl\"}], \"scatterternary\": [{\"marker\": {\"colorbar\": {\"outlinewidth\": 0, \"ticks\": \"\"}}, \"type\": \"scatterternary\"}], \"surface\": [{\"colorbar\": {\"outlinewidth\": 0, \"ticks\": \"\"}, \"colorscale\": [[0.0, \"#0d0887\"], [0.1111111111111111, \"#46039f\"], [0.2222222222222222, \"#7201a8\"], [0.3333333333333333, \"#9c179e\"], [0.4444444444444444, \"#bd3786\"], [0.5555555555555556, \"#d8576b\"], [0.6666666666666666, \"#ed7953\"], [0.7777777777777778, \"#fb9f3a\"], [0.8888888888888888, \"#fdca26\"], [1.0, \"#f0f921\"]], \"type\": \"surface\"}], \"table\": [{\"cells\": {\"fill\": {\"color\": \"#EBF0F8\"}, \"line\": {\"color\": \"white\"}}, \"header\": {\"fill\": {\"color\": \"#C8D4E3\"}, \"line\": {\"color\": \"white\"}}, \"type\": \"table\"}]}, \"layout\": {\"annotationdefaults\": {\"arrowcolor\": \"#2a3f5f\", \"arrowhead\": 0, \"arrowwidth\": 1}, \"coloraxis\": {\"colorbar\": {\"outlinewidth\": 0, \"ticks\": \"\"}}, \"colorscale\": {\"diverging\": [[0, \"#8e0152\"], [0.1, \"#c51b7d\"], [0.2, \"#de77ae\"], [0.3, \"#f1b6da\"], [0.4, \"#fde0ef\"], [0.5, \"#f7f7f7\"], [0.6, \"#e6f5d0\"], [0.7, \"#b8e186\"], [0.8, \"#7fbc41\"], [0.9, \"#4d9221\"], [1, \"#276419\"]], \"sequential\": [[0.0, \"#0d0887\"], [0.1111111111111111, \"#46039f\"], [0.2222222222222222, \"#7201a8\"], [0.3333333333333333, \"#9c179e\"], [0.4444444444444444, \"#bd3786\"], [0.5555555555555556, \"#d8576b\"], [0.6666666666666666, \"#ed7953\"], [0.7777777777777778, \"#fb9f3a\"], [0.8888888888888888, \"#fdca26\"], [1.0, \"#f0f921\"]], \"sequentialminus\": [[0.0, \"#0d0887\"], [0.1111111111111111, \"#46039f\"], [0.2222222222222222, \"#7201a8\"], [0.3333333333333333, \"#9c179e\"], [0.4444444444444444, \"#bd3786\"], [0.5555555555555556, \"#d8576b\"], [0.6666666666666666, \"#ed7953\"], [0.7777777777777778, \"#fb9f3a\"], [0.8888888888888888, \"#fdca26\"], [1.0, \"#f0f921\"]]}, \"colorway\": [\"#636efa\", \"#EF553B\", \"#00cc96\", \"#ab63fa\", \"#FFA15A\", \"#19d3f3\", \"#FF6692\", \"#B6E880\", \"#FF97FF\", \"#FECB52\"], \"font\": {\"color\": \"#2a3f5f\"}, \"geo\": {\"bgcolor\": \"white\", \"lakecolor\": \"white\", \"landcolor\": \"#E5ECF6\", \"showlakes\": true, \"showland\": true, \"subunitcolor\": \"white\"}, \"hoverlabel\": {\"align\": \"left\"}, \"hovermode\": \"closest\", \"mapbox\": {\"style\": \"light\"}, \"paper_bgcolor\": \"white\", \"plot_bgcolor\": \"#E5ECF6\", \"polar\": {\"angularaxis\": {\"gridcolor\": \"white\", \"linecolor\": \"white\", \"ticks\": \"\"}, \"bgcolor\": \"#E5ECF6\", \"radialaxis\": {\"gridcolor\": \"white\", \"linecolor\": \"white\", \"ticks\": \"\"}}, \"scene\": {\"xaxis\": {\"backgroundcolor\": \"#E5ECF6\", \"gridcolor\": \"white\", \"gridwidth\": 2, \"linecolor\": \"white\", \"showbackground\": true, \"ticks\": \"\", \"zerolinecolor\": \"white\"}, \"yaxis\": {\"backgroundcolor\": \"#E5ECF6\", \"gridcolor\": \"white\", \"gridwidth\": 2, \"linecolor\": \"white\", \"showbackground\": true, \"ticks\": \"\", \"zerolinecolor\": \"white\"}, \"zaxis\": {\"backgroundcolor\": \"#E5ECF6\", \"gridcolor\": \"white\", \"gridwidth\": 2, \"linecolor\": \"white\", \"showbackground\": true, \"ticks\": \"\", \"zerolinecolor\": \"white\"}}, \"shapedefaults\": {\"line\": {\"color\": \"#2a3f5f\"}}, \"ternary\": {\"aaxis\": {\"gridcolor\": \"white\", \"linecolor\": \"white\", \"ticks\": \"\"}, \"baxis\": {\"gridcolor\": \"white\", \"linecolor\": \"white\", \"ticks\": \"\"}, \"bgcolor\": \"#E5ECF6\", \"caxis\": {\"gridcolor\": \"white\", \"linecolor\": \"white\", \"ticks\": \"\"}}, \"title\": {\"x\": 0.05}, \"xaxis\": {\"automargin\": true, \"gridcolor\": \"white\", \"linecolor\": \"white\", \"ticks\": \"\", \"title\": {\"standoff\": 15}, \"zerolinecolor\": \"white\", \"zerolinewidth\": 2}, \"yaxis\": {\"automargin\": true, \"gridcolor\": \"white\", \"linecolor\": \"white\", \"ticks\": \"\", \"title\": {\"standoff\": 15}, \"zerolinecolor\": \"white\", \"zerolinewidth\": 2}}}, \"xaxis\": {\"dtick\": 200, \"tick0\": 100, \"tickformat\": \"1\", \"title\": {\"font\": {\"size\": 22}, \"text\": \"<b>Database size (thousands)<b>\"}}, \"yaxis\": {\"dtick\": 20, \"tickformat\": \"1\", \"title\": {\"font\": {\"size\": 22}, \"text\": \"<b>Running time (Sec)<b>\"}}},\n",
              "                        {\"responsive\": true}\n",
              "                    ).then(function(){\n",
              "                            \n",
              "var gd = document.getElementById('8ca8bfb5-20f8-49ca-a2dc-0a5d23fd15e8');\n",
              "var x = new MutationObserver(function (mutations, observer) {{\n",
              "        var display = window.getComputedStyle(gd).display;\n",
              "        if (!display || display === 'none') {{\n",
              "            console.log([gd, 'removed!']);\n",
              "            Plotly.purge(gd);\n",
              "            observer.disconnect();\n",
              "        }}\n",
              "}});\n",
              "\n",
              "// Listen for the removal of the full notebook cells\n",
              "var notebookContainer = gd.closest('#notebook-container');\n",
              "if (notebookContainer) {{\n",
              "    x.observe(notebookContainer, {childList: true});\n",
              "}}\n",
              "\n",
              "// Listen for the clearing of the current output cell\n",
              "var outputEl = gd.closest('.output');\n",
              "if (outputEl) {{\n",
              "    x.observe(outputEl, {childList: true});\n",
              "}}\n",
              "\n",
              "                        })\n",
              "                };\n",
              "                \n",
              "            </script>\n",
              "        </div>\n",
              "</body>\n",
              "</html>"
            ]
          },
          "metadata": {}
        }
      ]
    },
    {
      "cell_type": "code",
      "metadata": {
        "colab": {
          "base_uri": "https://localhost:8080/"
        },
        "id": "j6M51lo2eo9N",
        "outputId": "6fd07c78-94b3-4b33-d560-b6afd899d105"
      },
      "source": [
        "!cat /proc/cpuinfo"
      ],
      "execution_count": null,
      "outputs": [
        {
          "output_type": "stream",
          "text": [
            "processor\t: 0\n",
            "vendor_id\t: GenuineIntel\n",
            "cpu family\t: 6\n",
            "model\t\t: 63\n",
            "model name\t: Intel(R) Xeon(R) CPU @ 2.30GHz\n",
            "stepping\t: 0\n",
            "microcode\t: 0x1\n",
            "cpu MHz\t\t: 2299.998\n",
            "cache size\t: 46080 KB\n",
            "physical id\t: 0\n",
            "siblings\t: 2\n",
            "core id\t\t: 0\n",
            "cpu cores\t: 1\n",
            "apicid\t\t: 0\n",
            "initial apicid\t: 0\n",
            "fpu\t\t: yes\n",
            "fpu_exception\t: yes\n",
            "cpuid level\t: 13\n",
            "wp\t\t: yes\n",
            "flags\t\t: fpu vme de pse tsc msr pae mce cx8 apic sep mtrr pge mca cmov pat pse36 clflush mmx fxsr sse sse2 ss ht syscall nx pdpe1gb rdtscp lm constant_tsc rep_good nopl xtopology nonstop_tsc cpuid tsc_known_freq pni pclmulqdq ssse3 fma cx16 pcid sse4_1 sse4_2 x2apic movbe popcnt aes xsave avx f16c rdrand hypervisor lahf_lm abm invpcid_single ssbd ibrs ibpb stibp fsgsbase tsc_adjust bmi1 avx2 smep bmi2 erms invpcid xsaveopt arat md_clear arch_capabilities\n",
            "bugs\t\t: cpu_meltdown spectre_v1 spectre_v2 spec_store_bypass l1tf mds swapgs\n",
            "bogomips\t: 4599.99\n",
            "clflush size\t: 64\n",
            "cache_alignment\t: 64\n",
            "address sizes\t: 46 bits physical, 48 bits virtual\n",
            "power management:\n",
            "\n",
            "processor\t: 1\n",
            "vendor_id\t: GenuineIntel\n",
            "cpu family\t: 6\n",
            "model\t\t: 63\n",
            "model name\t: Intel(R) Xeon(R) CPU @ 2.30GHz\n",
            "stepping\t: 0\n",
            "microcode\t: 0x1\n",
            "cpu MHz\t\t: 2299.998\n",
            "cache size\t: 46080 KB\n",
            "physical id\t: 0\n",
            "siblings\t: 2\n",
            "core id\t\t: 0\n",
            "cpu cores\t: 1\n",
            "apicid\t\t: 1\n",
            "initial apicid\t: 1\n",
            "fpu\t\t: yes\n",
            "fpu_exception\t: yes\n",
            "cpuid level\t: 13\n",
            "wp\t\t: yes\n",
            "flags\t\t: fpu vme de pse tsc msr pae mce cx8 apic sep mtrr pge mca cmov pat pse36 clflush mmx fxsr sse sse2 ss ht syscall nx pdpe1gb rdtscp lm constant_tsc rep_good nopl xtopology nonstop_tsc cpuid tsc_known_freq pni pclmulqdq ssse3 fma cx16 pcid sse4_1 sse4_2 x2apic movbe popcnt aes xsave avx f16c rdrand hypervisor lahf_lm abm invpcid_single ssbd ibrs ibpb stibp fsgsbase tsc_adjust bmi1 avx2 smep bmi2 erms invpcid xsaveopt arat md_clear arch_capabilities\n",
            "bugs\t\t: cpu_meltdown spectre_v1 spectre_v2 spec_store_bypass l1tf mds swapgs\n",
            "bogomips\t: 4599.99\n",
            "clflush size\t: 64\n",
            "cache_alignment\t: 64\n",
            "address sizes\t: 46 bits physical, 48 bits virtual\n",
            "power management:\n",
            "\n"
          ],
          "name": "stdout"
        }
      ]
    },
    {
      "cell_type": "markdown",
      "metadata": {
        "id": "Q5hNt-FS-6T2"
      },
      "source": [
        "# Fail Tableaux!?"
      ]
    },
    {
      "cell_type": "markdown",
      "metadata": {
        "id": "0iByAa7I7F-u"
      },
      "source": [
        "### Creating fail_dataset"
      ]
    },
    {
      "cell_type": "code",
      "metadata": {
        "colab": {
          "base_uri": "https://localhost:8080/"
        },
        "id": "fwZqFlay7Pa1",
        "outputId": "c2b74616-652c-4210-a163-3eb2a74b754e"
      },
      "source": [
        "global patterns, pattern_members, entry_patterns\n",
        "patterns = []\n",
        "pattern_members = []\n",
        "entry_patterns = [[] for i in range(len(dataset))]\n",
        "\n",
        "add_patterns(['OP_CARRIER_AIRLINE_ID', 'OP_CARRIER_FL_NUM', 'ORIGIN', 'DEST'])\n",
        "calculate_costs(['OP_CARRIER_AIRLINE_ID', 'OP_CARRIER_FL_NUM', 'ORIGIN', 'DEST'], 'DEP_DELAY')\n",
        "\n",
        "group_deltas = []\n",
        "for i in range(len(patterns)):\n",
        "    group_deltas.append((pattern_deltas[i], i))\n",
        "\n",
        "group_deltas.sort()\n",
        "\n",
        "delta_threshhold, _ = group_deltas[int(0.95*len(group_deltas))]\n",
        "\n",
        "fail_dataset = []\n",
        "fail_delta = []\n",
        "non_fail_dataset = []\n",
        "                                    \n",
        "for i in range(len(group_deltas)):\n",
        "    delta, index = group_deltas[i]\n",
        "\n",
        "    if delta > delta_threshhold:\n",
        "        fail_dataset.append(patterns[index])\n",
        "        fail_delta.append(delta)\n",
        "        # print(patterns[index], delta)\n",
        "        # for member_index in pattern_members[index]:\n",
        "        #     print(dataset[member_index])\n",
        "    else:\n",
        "        non_fail_dataset.append(patterns[index])\n",
        "\n",
        "print('Fail dataset is generated!')\n",
        "print('Fail-dataset size: ', len(fail_dataset))\n",
        "print('Non-fail dataset size: ', len(non_fail_dataset))"
      ],
      "execution_count": null,
      "outputs": [
        {
          "output_type": "stream",
          "text": [
            "Fail dataset is generated!\n",
            "Fail-dataset size:  99\n",
            "Non-fail dataset size:  1956\n"
          ],
          "name": "stdout"
        }
      ]
    },
    {
      "cell_type": "markdown",
      "metadata": {
        "id": "tqFMbDLlxYN9"
      },
      "source": [
        "### Running CWSC algorithm for generating fail tableaux"
      ]
    },
    {
      "cell_type": "code",
      "metadata": {
        "id": "PU-p7oE90drv"
      },
      "source": [
        "def add_fail_patterns(general_patterns): \n",
        "    global fail_patterns, fail_pattern_members, fail_entry_patterns\n",
        "\n",
        "    pattern_tuples = {}\n",
        "    \n",
        "    for entry_index, entry in enumerate(fail_dataset):\n",
        "        pattern_tuple = tuple([])\n",
        "        pattern_dictionary = {}\n",
        "        \n",
        "        for attr in general_patterns:\n",
        "            pattern_tuple = pattern_tuple + tuple([entry[attr]])\n",
        "            pattern_dictionary[attr] = entry[attr]\n",
        "        \n",
        "        if pattern_tuple not in pattern_tuples:\n",
        "            pattern_tuples[pattern_tuple] = len(fail_patterns)\n",
        "            fail_patterns.append(pattern_dictionary)\n",
        "            fail_pattern_members.append([])\n",
        "        \n",
        "        pattern_index = pattern_tuples[pattern_tuple]\n",
        "        fail_pattern_members[pattern_index].append(entry_index)\n",
        "        fail_entry_patterns[entry_index].append(pattern_index)\n"
      ],
      "execution_count": null,
      "outputs": []
    },
    {
      "cell_type": "code",
      "metadata": {
        "id": "-d0ho_b_UWBO"
      },
      "source": [
        "def include(patternA, patternB):\n",
        "    for attr in patternB:\n",
        "        if attr not in patternA: \n",
        "            return False\n",
        "        if attr in patternA and patternB[attr] != patternA[attr]:\n",
        "            return False\n",
        "            \n",
        "    return True"
      ],
      "execution_count": null,
      "outputs": []
    },
    {
      "cell_type": "code",
      "metadata": {
        "id": "WSKHbIslEwX1"
      },
      "source": [
        "def calculate_fail_costs():\n",
        "    global fail_pattern_costs\n",
        "    fail_pattern_costs = [0 for i in range(len(fail_patterns))]\n",
        "\n",
        "    for i in range(len(fail_patterns)):\n",
        "        fail_pattern_costs[i] = 0\n",
        "\n",
        "        for tupple in non_fail_dataset:\n",
        "            if include(tupple, fail_patterns[i]):\n",
        "                fail_pattern_costs[i] += 1\n",
        "\n",
        "        if fail_pattern_costs[i] == 0:\n",
        "            fail_pattern_costs[i] = 1\n",
        "        "
      ],
      "execution_count": null,
      "outputs": []
    },
    {
      "cell_type": "code",
      "metadata": {
        "id": "NZHhDI-kiao4"
      },
      "source": [
        "def fail_CWSC(k, coverage):\n",
        "    \n",
        "    total_cost = 0\n",
        "\n",
        "    # Moving pattern_members to members\n",
        "    members = [set([]) for i in range(len(fail_patterns))]\n",
        "    for i in range(len(fail_patterns)):\n",
        "        for member in fail_pattern_members[i]:\n",
        "            members[i].add(member)\n",
        "    \n",
        "    selected = [0 for i in range(len(fail_patterns))]\n",
        "    solution_patterns = []\n",
        "    rem = int(len(fail_dataset) * coverage)\n",
        "    \n",
        "    for i in range(k, 0, -1):\n",
        "        \n",
        "        max_gain = 0.0\n",
        "        max_pattern_index = -1\n",
        "        \n",
        "        for index, pattern in enumerate(fail_patterns):\n",
        "            \n",
        "            marginal_benefit = len(members[index])\n",
        "            cost = fail_pattern_costs[index]\n",
        "            marginal_gain = marginal_benefit / cost\n",
        "            \n",
        "            if selected[index] == 0 and marginal_benefit >= rem/i and marginal_gain > max_gain:\n",
        "                max_gain = marginal_gain\n",
        "                max_pattern_index = index\n",
        "        \n",
        "        if max_pattern_index == -1:\n",
        "            print('Impossible!')\n",
        "            return ['Failed!']\n",
        "        \n",
        "        # selecting the next pattern\n",
        "        selected[max_pattern_index] = 1\n",
        "        total_cost += fail_pattern_costs[max_pattern_index]\n",
        "        solution_patterns.append(max_pattern_index)\n",
        "        rem -= len(members[max_pattern_index])\n",
        "\n",
        "        if rem <= 0:\n",
        "            print('\\nTotal cost is ', total_cost, '\\n')\n",
        "            return solution_patterns\n",
        "        \n",
        "        # updating the marginal benefits\n",
        "        for entry_index in members[max_pattern_index]:\n",
        "            for pattern_index in fail_entry_patterns[entry_index]:\n",
        "                if pattern_index != max_pattern_index:\n",
        "                    members[pattern_index].remove(entry_index)\n"
      ],
      "execution_count": null,
      "outputs": []
    },
    {
      "cell_type": "code",
      "metadata": {
        "colab": {
          "base_uri": "https://localhost:8080/"
        },
        "id": "CBPxnNkzht9H",
        "outputId": "85babef6-5cc1-4f2d-978e-33aad501f351"
      },
      "source": [
        "global fail_patterns, fail_pattern_members, fail_entry_patterns\n",
        "fail_patterns = []\n",
        "fail_pattern_members = []\n",
        "fail_entry_patterns = [[] for i in range(len(dataset))]\n",
        "MFD_LHS_attrs = ['OP_CARRIER_AIRLINE_ID', 'OP_CARRIER_FL_NUM', 'ORIGIN', 'DEST']\n",
        "\n",
        "for x in chain.from_iterable(combinations(MFD_LHS_attrs, r) for r in range(0, len(MFD_LHS_attrs)+1)):\n",
        "    general_pattern = list(x)\n",
        "    add_fail_patterns(general_pattern)\n",
        "\n",
        "calculate_fail_costs()\n",
        "solution_patterns = fail_CWSC(k = 10, coverage = 0.5)\n",
        "\n",
        "print('The worst %5 patterns: \\n')\n",
        "for i in range(len(fail_dataset)):\n",
        "    print(fail_dataset[i], fail_delta[i])\n",
        "\n",
        "print('\\nRunning CWSC for generating fail tableaux: \\n')\n",
        "for pattern_index in solution_patterns:\n",
        "    print(fail_patterns[pattern_index])"
      ],
      "execution_count": null,
      "outputs": [
        {
          "output_type": "stream",
          "text": [
            "\n",
            "Total cost is  365 \n",
            "\n",
            "The worst %5 patterns: \n",
            "\n",
            "{'OP_CARRIER_AIRLINE_ID': 'JetBlue Airways: B6', 'OP_CARRIER_FL_NUM': '797', 'ORIGIN': 'BOS', 'DEST': 'ATL'} 171.0\n",
            "{'OP_CARRIER_AIRLINE_ID': 'Southwest Airlines Co.: WN', 'OP_CARRIER_FL_NUM': '2345', 'ORIGIN': 'LAX', 'DEST': 'PHX'} 171.0\n",
            "{'OP_CARRIER_AIRLINE_ID': 'Southwest Airlines Co.: WN', 'OP_CARRIER_FL_NUM': '2084', 'ORIGIN': 'DEN', 'DEST': 'SEA'} 171.0\n",
            "{'OP_CARRIER_AIRLINE_ID': 'JetBlue Airways: B6', 'OP_CARRIER_FL_NUM': '324', 'ORIGIN': 'LAX', 'DEST': 'JFK'} 172.0\n",
            "{'OP_CARRIER_AIRLINE_ID': 'United Air Lines Inc.: UA', 'OP_CARRIER_FL_NUM': '578', 'ORIGIN': 'ORD', 'DEST': 'BOS'} 172.0\n",
            "{'OP_CARRIER_AIRLINE_ID': 'Southwest Airlines Co.: WN', 'OP_CARRIER_FL_NUM': '1107', 'ORIGIN': 'DEN', 'DEST': 'LAS'} 173.0\n",
            "{'OP_CARRIER_AIRLINE_ID': 'American Airlines Inc.: AA', 'OP_CARRIER_FL_NUM': '274', 'ORIGIN': 'LAX', 'DEST': 'JFK'} 174.0\n",
            "{'OP_CARRIER_AIRLINE_ID': 'American Airlines Inc.: AA', 'OP_CARRIER_FL_NUM': '776', 'ORIGIN': 'CLT', 'DEST': 'LAS'} 174.0\n",
            "{'OP_CARRIER_AIRLINE_ID': 'JetBlue Airways: B6', 'OP_CARRIER_FL_NUM': '1723', 'ORIGIN': 'JFK', 'DEST': 'LAX'} 175.0\n",
            "{'OP_CARRIER_AIRLINE_ID': 'JetBlue Airways: B6', 'OP_CARRIER_FL_NUM': '611', 'ORIGIN': 'JFK', 'DEST': 'LAS'} 175.0\n",
            "{'OP_CARRIER_AIRLINE_ID': 'SkyWest Airlines Inc.: OO', 'OP_CARRIER_FL_NUM': '3694', 'ORIGIN': 'ORD', 'DEST': 'JFK'} 176.0\n",
            "{'OP_CARRIER_AIRLINE_ID': 'JetBlue Airways: B6', 'OP_CARRIER_FL_NUM': '624', 'ORIGIN': 'LAX', 'DEST': 'JFK'} 177.0\n",
            "{'OP_CARRIER_AIRLINE_ID': 'Alaska Airlines Inc.: AS', 'OP_CARRIER_FL_NUM': '1412', 'ORIGIN': 'LAX', 'DEST': 'JFK'} 177.0\n",
            "{'OP_CARRIER_AIRLINE_ID': 'Delta Air Lines Inc.: DL', 'OP_CARRIER_FL_NUM': '2377', 'ORIGIN': 'SEA', 'DEST': 'JFK'} 177.0\n",
            "{'OP_CARRIER_AIRLINE_ID': 'SkyWest Airlines Inc.: OO', 'OP_CARRIER_FL_NUM': '3692', 'ORIGIN': 'JFK', 'DEST': 'ORD'} 178.0\n",
            "{'OP_CARRIER_AIRLINE_ID': 'Southwest Airlines Co.: WN', 'OP_CARRIER_FL_NUM': '1531', 'ORIGIN': 'BOS', 'DEST': 'ATL'} 178.0\n",
            "{'OP_CARRIER_AIRLINE_ID': 'JetBlue Airways: B6', 'OP_CARRIER_FL_NUM': '718', 'ORIGIN': 'JFK', 'DEST': 'BOS'} 179.0\n",
            "{'OP_CARRIER_AIRLINE_ID': 'American Airlines Inc.: AA', 'OP_CARRIER_FL_NUM': '2488', 'ORIGIN': 'CLT', 'DEST': 'ORD'} 179.0\n",
            "{'OP_CARRIER_AIRLINE_ID': 'Southwest Airlines Co.: WN', 'OP_CARRIER_FL_NUM': '1722', 'ORIGIN': 'PHX', 'DEST': 'LAX'} 180.0\n",
            "{'OP_CARRIER_AIRLINE_ID': 'American Airlines Inc.: AA', 'OP_CARRIER_FL_NUM': '1414', 'ORIGIN': 'JFK', 'DEST': 'ORD'} 181.0\n",
            "{'OP_CARRIER_AIRLINE_ID': 'JetBlue Airways: B6', 'OP_CARRIER_FL_NUM': '1446', 'ORIGIN': 'CLT', 'DEST': 'BOS'} 185.0\n",
            "{'OP_CARRIER_AIRLINE_ID': 'American Airlines Inc.: AA', 'OP_CARRIER_FL_NUM': '1671', 'ORIGIN': 'LAX', 'DEST': 'PHX'} 186.0\n",
            "{'OP_CARRIER_AIRLINE_ID': 'Southwest Airlines Co.: WN', 'OP_CARRIER_FL_NUM': '2096', 'ORIGIN': 'BOS', 'DEST': 'DEN'} 186.0\n",
            "{'OP_CARRIER_AIRLINE_ID': 'Delta Air Lines Inc.: DL', 'OP_CARRIER_FL_NUM': '1800', 'ORIGIN': 'ATL', 'DEST': 'BOS'} 188.0\n",
            "{'OP_CARRIER_AIRLINE_ID': 'American Airlines Inc.: AA', 'OP_CARRIER_FL_NUM': '2465', 'ORIGIN': 'ORD', 'DEST': 'LAS'} 190.0\n",
            "{'OP_CARRIER_AIRLINE_ID': 'Delta Air Lines Inc.: DL', 'OP_CARRIER_FL_NUM': '2009', 'ORIGIN': 'ATL', 'DEST': 'ORD'} 191.0\n",
            "{'OP_CARRIER_AIRLINE_ID': 'Alaska Airlines Inc.: AS', 'OP_CARRIER_FL_NUM': '1021', 'ORIGIN': 'JFK', 'DEST': 'SEA'} 191.0\n",
            "{'OP_CARRIER_AIRLINE_ID': 'Frontier Airlines Inc.: F9', 'OP_CARRIER_FL_NUM': '423', 'ORIGIN': 'ATL', 'DEST': 'DEN'} 191.0\n",
            "{'OP_CARRIER_AIRLINE_ID': 'United Air Lines Inc.: UA', 'OP_CARRIER_FL_NUM': '815', 'ORIGIN': 'DEN', 'DEST': 'LAX'} 192.0\n",
            "{'OP_CARRIER_AIRLINE_ID': 'Southwest Airlines Co.: WN', 'OP_CARRIER_FL_NUM': '1926', 'ORIGIN': 'PHX', 'DEST': 'LAX'} 192.0\n",
            "{'OP_CARRIER_AIRLINE_ID': 'Delta Air Lines Inc.: DL', 'OP_CARRIER_FL_NUM': '2009', 'ORIGIN': 'ORD', 'DEST': 'ATL'} 193.0\n",
            "{'OP_CARRIER_AIRLINE_ID': 'Compass Airlines: CP', 'OP_CARRIER_FL_NUM': '5710', 'ORIGIN': 'LAX', 'DEST': 'PHX'} 194.0\n",
            "{'OP_CARRIER_AIRLINE_ID': 'Alaska Airlines Inc.: AS', 'OP_CARRIER_FL_NUM': '1415', 'ORIGIN': 'JFK', 'DEST': 'LAX'} 195.0\n",
            "{'OP_CARRIER_AIRLINE_ID': 'Compass Airlines: CP', 'OP_CARRIER_FL_NUM': '5713', 'ORIGIN': 'LAX', 'DEST': 'PHX'} 195.0\n",
            "{'OP_CARRIER_AIRLINE_ID': 'United Air Lines Inc.: UA', 'OP_CARRIER_FL_NUM': '599', 'ORIGIN': 'BOS', 'DEST': 'ORD'} 195.0\n",
            "{'OP_CARRIER_AIRLINE_ID': 'Delta Air Lines Inc.: DL', 'OP_CARRIER_FL_NUM': '2918', 'ORIGIN': 'JFK', 'DEST': 'ATL'} 197.0\n",
            "{'OP_CARRIER_AIRLINE_ID': 'JetBlue Airways: B6', 'OP_CARRIER_FL_NUM': '796', 'ORIGIN': 'ATL', 'DEST': 'BOS'} 197.0\n",
            "{'OP_CARRIER_AIRLINE_ID': 'SkyWest Airlines Inc.: OO', 'OP_CARRIER_FL_NUM': '5771', 'ORIGIN': 'ATL', 'DEST': 'ORD'} 202.0\n",
            "{'OP_CARRIER_AIRLINE_ID': 'JetBlue Airways: B6', 'OP_CARRIER_FL_NUM': '720', 'ORIGIN': 'ATL', 'DEST': 'JFK'} 202.0\n",
            "{'OP_CARRIER_AIRLINE_ID': 'Compass Airlines: CP', 'OP_CARRIER_FL_NUM': '5795', 'ORIGIN': 'PHX', 'DEST': 'SEA'} 202.0\n",
            "{'OP_CARRIER_AIRLINE_ID': 'United Air Lines Inc.: UA', 'OP_CARRIER_FL_NUM': '439', 'ORIGIN': 'BOS', 'DEST': 'ORD'} 204.0\n",
            "{'OP_CARRIER_AIRLINE_ID': 'Southwest Airlines Co.: WN', 'OP_CARRIER_FL_NUM': '1459', 'ORIGIN': 'LAS', 'DEST': 'DEN'} 206.0\n",
            "{'OP_CARRIER_AIRLINE_ID': 'Delta Air Lines Inc.: DL', 'OP_CARRIER_FL_NUM': '893', 'ORIGIN': 'LAX', 'DEST': 'JFK'} 210.0\n",
            "{'OP_CARRIER_AIRLINE_ID': 'JetBlue Airways: B6', 'OP_CARRIER_FL_NUM': '524', 'ORIGIN': 'LAX', 'DEST': 'JFK'} 210.0\n",
            "{'OP_CARRIER_AIRLINE_ID': 'United Air Lines Inc.: UA', 'OP_CARRIER_FL_NUM': '1536', 'ORIGIN': 'ORD', 'DEST': 'LAX'} 210.0\n",
            "{'OP_CARRIER_AIRLINE_ID': 'Southwest Airlines Co.: WN', 'OP_CARRIER_FL_NUM': '1456', 'ORIGIN': 'PHX', 'DEST': 'DEN'} 210.0\n",
            "{'OP_CARRIER_AIRLINE_ID': 'Endeavor Air Inc.: 9E', 'OP_CARRIER_FL_NUM': '3379', 'ORIGIN': 'ORD', 'DEST': 'JFK'} 213.0\n",
            "{'OP_CARRIER_AIRLINE_ID': 'Southwest Airlines Co.: WN', 'OP_CARRIER_FL_NUM': '1773', 'ORIGIN': 'BOS', 'DEST': 'DEN'} 214.0\n",
            "{'OP_CARRIER_AIRLINE_ID': 'Southwest Airlines Co.: WN', 'OP_CARRIER_FL_NUM': '854', 'ORIGIN': 'LAS', 'DEST': 'LAX'} 219.0\n",
            "{'OP_CARRIER_AIRLINE_ID': 'Delta Air Lines Inc.: DL', 'OP_CARRIER_FL_NUM': '826', 'ORIGIN': 'ATL', 'DEST': 'CLT'} 220.0\n",
            "{'OP_CARRIER_AIRLINE_ID': 'JetBlue Airways: B6', 'OP_CARRIER_FL_NUM': '424', 'ORIGIN': 'LAX', 'DEST': 'JFK'} 220.0\n",
            "{'OP_CARRIER_AIRLINE_ID': 'Southwest Airlines Co.: WN', 'OP_CARRIER_FL_NUM': '1451', 'ORIGIN': 'BOS', 'DEST': 'ATL'} 220.0\n",
            "{'OP_CARRIER_AIRLINE_ID': 'Southwest Airlines Co.: WN', 'OP_CARRIER_FL_NUM': '1109', 'ORIGIN': 'ATL', 'DEST': 'LAX'} 222.0\n",
            "{'OP_CARRIER_AIRLINE_ID': 'JetBlue Airways: B6', 'OP_CARRIER_FL_NUM': '1823', 'ORIGIN': 'JFK', 'DEST': 'LAX'} 224.0\n",
            "{'OP_CARRIER_AIRLINE_ID': 'American Airlines Inc.: AA', 'OP_CARRIER_FL_NUM': '4', 'ORIGIN': 'LAX', 'DEST': 'JFK'} 226.0\n",
            "{'OP_CARRIER_AIRLINE_ID': 'United Air Lines Inc.: UA', 'OP_CARRIER_FL_NUM': '592', 'ORIGIN': 'ORD', 'DEST': 'LAX'} 226.0\n",
            "{'OP_CARRIER_AIRLINE_ID': 'American Airlines Inc.: AA', 'OP_CARRIER_FL_NUM': '2063', 'ORIGIN': 'LAS', 'DEST': 'PHX'} 228.0\n",
            "{'OP_CARRIER_AIRLINE_ID': 'Delta Air Lines Inc.: DL', 'OP_CARRIER_FL_NUM': '2100', 'ORIGIN': 'ATL', 'DEST': 'BOS'} 233.0\n",
            "{'OP_CARRIER_AIRLINE_ID': 'American Airlines Inc.: AA', 'OP_CARRIER_FL_NUM': '1278', 'ORIGIN': 'JFK', 'DEST': 'BOS'} 236.0\n",
            "{'OP_CARRIER_AIRLINE_ID': 'Southwest Airlines Co.: WN', 'OP_CARRIER_FL_NUM': '2064', 'ORIGIN': 'LAS', 'DEST': 'PHX'} 236.0\n",
            "{'OP_CARRIER_AIRLINE_ID': 'Southwest Airlines Co.: WN', 'OP_CARRIER_FL_NUM': '2071', 'ORIGIN': 'ATL', 'DEST': 'DEN'} 237.0\n",
            "{'OP_CARRIER_AIRLINE_ID': 'Delta Air Lines Inc.: DL', 'OP_CARRIER_FL_NUM': '2485', 'ORIGIN': 'DEN', 'DEST': 'LAX'} 238.0\n",
            "{'OP_CARRIER_AIRLINE_ID': 'Delta Air Lines Inc.: DL', 'OP_CARRIER_FL_NUM': '542', 'ORIGIN': 'JFK', 'DEST': 'DEN'} 239.0\n",
            "{'OP_CARRIER_AIRLINE_ID': 'Delta Air Lines Inc.: DL', 'OP_CARRIER_FL_NUM': '2940', 'ORIGIN': 'ATL', 'DEST': 'JFK'} 240.0\n",
            "{'OP_CARRIER_AIRLINE_ID': 'Southwest Airlines Co.: WN', 'OP_CARRIER_FL_NUM': '1486', 'ORIGIN': 'PHX', 'DEST': 'DEN'} 241.0\n",
            "{'OP_CARRIER_AIRLINE_ID': 'Southwest Airlines Co.: WN', 'OP_CARRIER_FL_NUM': '1482', 'ORIGIN': 'DEN', 'DEST': 'LAX'} 243.0\n",
            "{'OP_CARRIER_AIRLINE_ID': 'United Air Lines Inc.: UA', 'OP_CARRIER_FL_NUM': '732', 'ORIGIN': 'CLT', 'DEST': 'DEN'} 244.0\n",
            "{'OP_CARRIER_AIRLINE_ID': 'Spirit Air Lines: NK', 'OP_CARRIER_FL_NUM': '847', 'ORIGIN': 'ORD', 'DEST': 'DEN'} 246.0\n",
            "{'OP_CARRIER_AIRLINE_ID': 'Southwest Airlines Co.: WN', 'OP_CARRIER_FL_NUM': '1749', 'ORIGIN': 'SEA', 'DEST': 'LAS'} 246.0\n",
            "{'OP_CARRIER_AIRLINE_ID': 'Endeavor Air Inc.: 9E', 'OP_CARRIER_FL_NUM': '5301', 'ORIGIN': 'BOS', 'DEST': 'JFK'} 247.0\n",
            "{'OP_CARRIER_AIRLINE_ID': 'Delta Air Lines Inc.: DL', 'OP_CARRIER_FL_NUM': '2427', 'ORIGIN': 'DEN', 'DEST': 'JFK'} 253.0\n",
            "{'OP_CARRIER_AIRLINE_ID': 'Spirit Air Lines: NK', 'OP_CARRIER_FL_NUM': '847', 'ORIGIN': 'DEN', 'DEST': 'LAX'} 256.0\n",
            "{'OP_CARRIER_AIRLINE_ID': 'Delta Air Lines Inc.: DL', 'OP_CARRIER_FL_NUM': '2435', 'ORIGIN': 'JFK', 'DEST': 'PHX'} 261.0\n",
            "{'OP_CARRIER_AIRLINE_ID': 'Delta Air Lines Inc.: DL', 'OP_CARRIER_FL_NUM': '1473', 'ORIGIN': 'SEA', 'DEST': 'JFK'} 263.0\n",
            "{'OP_CARRIER_AIRLINE_ID': 'Spirit Air Lines: NK', 'OP_CARRIER_FL_NUM': '736', 'ORIGIN': 'LAX', 'DEST': 'ORD'} 263.0\n",
            "{'OP_CARRIER_AIRLINE_ID': 'JetBlue Airways: B6', 'OP_CARRIER_FL_NUM': '711', 'ORIGIN': 'JFK', 'DEST': 'LAS'} 263.0\n",
            "{'OP_CARRIER_AIRLINE_ID': 'JetBlue Airways: B6', 'OP_CARRIER_FL_NUM': '748', 'ORIGIN': 'LAS', 'DEST': 'JFK'} 265.0\n",
            "{'OP_CARRIER_AIRLINE_ID': 'JetBlue Airways: B6', 'OP_CARRIER_FL_NUM': '1011', 'ORIGIN': 'BOS', 'DEST': 'ORD'} 268.0\n",
            "{'OP_CARRIER_AIRLINE_ID': 'United Air Lines Inc.: UA', 'OP_CARRIER_FL_NUM': '599', 'ORIGIN': 'ORD', 'DEST': 'LAS'} 273.0\n",
            "{'OP_CARRIER_AIRLINE_ID': 'Southwest Airlines Co.: WN', 'OP_CARRIER_FL_NUM': '548', 'ORIGIN': 'PHX', 'DEST': 'SEA'} 279.0\n",
            "{'OP_CARRIER_AIRLINE_ID': 'JetBlue Airways: B6', 'OP_CARRIER_FL_NUM': '317', 'ORIGIN': 'BOS', 'DEST': 'JFK'} 284.0\n",
            "{'OP_CARRIER_AIRLINE_ID': 'Delta Air Lines Inc.: DL', 'OP_CARRIER_FL_NUM': '417', 'ORIGIN': 'BOS', 'DEST': 'JFK'} 285.0\n",
            "{'OP_CARRIER_AIRLINE_ID': 'JetBlue Airways: B6', 'OP_CARRIER_FL_NUM': '112', 'ORIGIN': 'ORD', 'DEST': 'BOS'} 290.0\n",
            "{'OP_CARRIER_AIRLINE_ID': 'Southwest Airlines Co.: WN', 'OP_CARRIER_FL_NUM': '1088', 'ORIGIN': 'PHX', 'DEST': 'LAS'} 293.0\n",
            "{'OP_CARRIER_AIRLINE_ID': 'Southwest Airlines Co.: WN', 'OP_CARRIER_FL_NUM': '990', 'ORIGIN': 'PHX', 'DEST': 'LAS'} 295.0\n",
            "{'OP_CARRIER_AIRLINE_ID': 'Delta Air Lines Inc.: DL', 'OP_CARRIER_FL_NUM': '455', 'ORIGIN': 'JFK', 'DEST': 'PHX'} 297.0\n",
            "{'OP_CARRIER_AIRLINE_ID': 'American Airlines Inc.: AA', 'OP_CARRIER_FL_NUM': '2366', 'ORIGIN': 'ORD', 'DEST': 'ATL'} 310.0\n",
            "{'OP_CARRIER_AIRLINE_ID': 'Delta Air Lines Inc.: DL', 'OP_CARRIER_FL_NUM': '421', 'ORIGIN': 'JFK', 'DEST': 'ATL'} 322.0\n",
            "{'OP_CARRIER_AIRLINE_ID': 'American Airlines Inc.: AA', 'OP_CARRIER_FL_NUM': '238', 'ORIGIN': 'LAX', 'DEST': 'JFK'} 322.0\n",
            "{'OP_CARRIER_AIRLINE_ID': 'Southwest Airlines Co.: WN', 'OP_CARRIER_FL_NUM': '1889', 'ORIGIN': 'PHX', 'DEST': 'DEN'} 324.0\n",
            "{'OP_CARRIER_AIRLINE_ID': 'Southwest Airlines Co.: WN', 'OP_CARRIER_FL_NUM': '187', 'ORIGIN': 'SEA', 'DEST': 'PHX'} 326.0\n",
            "{'OP_CARRIER_AIRLINE_ID': 'Delta Air Lines Inc.: DL', 'OP_CARRIER_FL_NUM': '415', 'ORIGIN': 'ATL', 'DEST': 'JFK'} 335.0\n",
            "{'OP_CARRIER_AIRLINE_ID': 'Delta Air Lines Inc.: DL', 'OP_CARRIER_FL_NUM': '572', 'ORIGIN': 'BOS', 'DEST': 'ATL'} 348.0\n",
            "{'OP_CARRIER_AIRLINE_ID': 'United Air Lines Inc.: UA', 'OP_CARRIER_FL_NUM': '764', 'ORIGIN': 'LAS', 'DEST': 'DEN'} 349.0\n",
            "{'OP_CARRIER_AIRLINE_ID': 'Delta Air Lines Inc.: DL', 'OP_CARRIER_FL_NUM': '427', 'ORIGIN': 'JFK', 'DEST': 'LAX'} 372.0\n",
            "{'OP_CARRIER_AIRLINE_ID': 'Frontier Airlines Inc.: F9', 'OP_CARRIER_FL_NUM': '756', 'ORIGIN': 'PHX', 'DEST': 'DEN'} 421.0\n",
            "{'OP_CARRIER_AIRLINE_ID': 'Frontier Airlines Inc.: F9', 'OP_CARRIER_FL_NUM': '412', 'ORIGIN': 'LAX', 'DEST': 'DEN'} 463.0\n",
            "{'OP_CARRIER_AIRLINE_ID': 'Frontier Airlines Inc.: F9', 'OP_CARRIER_FL_NUM': '1567', 'ORIGIN': 'ATL', 'DEST': 'LAX'} 489.0\n",
            "{'OP_CARRIER_AIRLINE_ID': 'Delta Air Lines Inc.: DL', 'OP_CARRIER_FL_NUM': '1870', 'ORIGIN': 'PHX', 'DEST': 'SEA'} 893.0\n",
            "\n",
            "Running CWSC for generating fail tableaux: \n",
            "\n",
            "{'ORIGIN': 'LAX', 'DEST': 'JFK'}\n",
            "{'OP_CARRIER_AIRLINE_ID': 'JetBlue Airways: B6', 'ORIGIN': 'JFK'}\n",
            "{'OP_CARRIER_AIRLINE_ID': 'Delta Air Lines Inc.: DL', 'ORIGIN': 'JFK'}\n",
            "{'OP_CARRIER_AIRLINE_ID': 'Delta Air Lines Inc.: DL', 'DEST': 'JFK'}\n",
            "{'OP_CARRIER_AIRLINE_ID': 'Southwest Airlines Co.: WN', 'ORIGIN': 'BOS'}\n",
            "{'OP_CARRIER_AIRLINE_ID': 'Frontier Airlines Inc.: F9'}\n",
            "{'ORIGIN': 'DEN', 'DEST': 'LAX'}\n",
            "{'ORIGIN': 'LAX', 'DEST': 'PHX'}\n",
            "{'OP_CARRIER_AIRLINE_ID': 'JetBlue Airways: B6'}\n"
          ],
          "name": "stdout"
        }
      ]
    },
    {
      "cell_type": "markdown",
      "metadata": {
        "id": "sIG8_Qaz-37M"
      },
      "source": [
        "# Baselines"
      ]
    },
    {
      "cell_type": "code",
      "metadata": {
        "colab": {
          "base_uri": "https://localhost:8080/"
        },
        "id": "LCZRNztj3sYe",
        "outputId": "b650ea61-9794-4c7e-d5d2-19f72a86c4c2"
      },
      "source": [
        "print(1099511627776/1024/1024/1024)\n",
        "x = {'a':'b', 'c':'d'}\n",
        "print(x.keys())\n",
        "\n",
        "def a():\n",
        "    global x\n",
        "    x = [1, 2]\n",
        "\n",
        "def b():\n",
        "    global x\n",
        "    x = [3, 4]\n",
        "    a()\n",
        "    print(x)\n",
        "\n",
        "b()\n",
        "\n",
        "\n",
        "x = tuple([])\n",
        "dic = {x:0}\n",
        "print(dic)\n",
        "print(dic[x], x in dic)\n",
        "\n",
        "# for n in range(100):\n",
        "#     print(n, round(n * 0.9))\n",
        "\n",
        "ss = False\n",
        "print(ss == True)"
      ],
      "execution_count": null,
      "outputs": [
        {
          "output_type": "stream",
          "text": [
            "1024.0\n",
            "dict_keys(['a', 'c'])\n",
            "[1, 2]\n",
            "{(): 0}\n",
            "0 True\n",
            "False\n"
          ],
          "name": "stdout"
        }
      ]
    },
    {
      "cell_type": "code",
      "metadata": {
        "id": "I_nFsnhm1KGC"
      },
      "source": [
        "\n",
        "{'source': 'www.uswx.com', 'day': 'Saturday', 'hour': 12, 'location': 'New York', 'temperature': '15'}\n",
        "{'source': 'www.climaton.com', 'day': 'Saturday', 'hour': 12, 'location': 'New York', 'temperature': '16'}\n",
        "{'source': 'www.accuweather.com', 'day': 'Saturday', 'hour': 12, 'location': 'New York', 'temperature': '15'}\n",
        "\n",
        "{'source': 'weather.cnn.com', 'day': 'Friday', 'hour': 18, 'location': 'Los Angeles', 'temperature': '54'}\n",
        "{'source': 'www.accuweather.com', 'day': 'Friday', 'hour': 18, 'location': 'Los Angeles', 'temperature': '57'}\n",
        "{'source': 'weather.herald.com', 'day': 'Friday', 'hour': 12, 'location': 'Los Angeles', 'temperature': '52'}\n",
        "{'source': 'weather.herald.com', 'day': 'Friday', 'hour': 18, 'location': 'Los Angeles', 'temperature': '57'}\n",
        "{'source': 'weather.aol.com', 'day': 'Friday', 'hour': 18, 'location': 'Los Angeles', 'temperature': '58'}\n",
        "{'source': 'www.climaton.com', 'day': 'Monday', 'hour': 18, 'location': 'Los Angeles', 'temperature': '52'}\n",
        "{'source': 'www.climaton.com', 'day': 'Saturday', 'hour': 12, 'location': 'Los Angeles', 'temperature': '54'}\n",
        "{'source': 'www.nytimes.com', 'day': 'Friday', 'hour': 18, 'location': 'Los Angeles', 'temperature': '47'}\n",
        "{'source': 'weather.msn.com', 'day': 'Saturday', 'hour': 18, 'location': 'Los Angeles', 'temperature': '55'}\n",
        "{'source': 'www.nytimes.com', 'day': 'Friday', 'hour': 12, 'location': 'Los Angeles', 'temperature': '50'}\n",
        "\n",
        "{'source': 'weather.msn.com', 'day': 'Friday', 'hour': 12, 'location': 'Seattle', 'temperature': '45'}\n",
        "{'source': 'weather.cnn.com', 'day': 'Friday', 'hour': 12, 'location': 'Seattle', 'temperature': '45'}\n",
        "{'source': 'www.accuweather.com', 'day': 'Friday', 'hour': 12, 'location': 'Seattle', 'temperature': '49'}\n",
        "{'source': 'weather.cnn.com', 'day': 'Saturday', 'hour': 12, 'location': 'Seattle', 'temperature': '46'}\n",
        "{'source': 'www.climaton.com', 'day': 'Friday', 'hour': 18, 'location': 'Seattle', 'temperature': '46'}\n",
        "{'source': 'www.nytimes.com', 'day': 'Monday', 'hour': 18, 'location': 'Seattle', 'temperature': '41'}\n",
        "{'source': 'www.nytimes.com', 'day': 'Saturday', 'hour': 12, 'location': 'Seattle', 'temperature': '45'}\n",
        "{'source': 'search.yahoo.com', 'day': 'Friday', 'hour': 18, 'location': 'Seattle', 'temperature': '46'}\n",
        "\n"
      ],
      "execution_count": null,
      "outputs": []
    }
  ]
}